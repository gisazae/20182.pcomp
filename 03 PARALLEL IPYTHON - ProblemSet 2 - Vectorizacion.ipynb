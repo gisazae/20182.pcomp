{
 "cells": [
  {
   "cell_type": "markdown",
   "metadata": {},
   "source": [
    "# Vectorización en Python\n",
    "\n",
    "### LEE ATENTAMENTE ESTE `notebook` EJECUTANDO SUS CELDAS. COMPLETA Y CONTESTA LAS CELDAS QUE CORRESPONDAN"
   ]
  },
  {
   "cell_type": "markdown",
   "metadata": {},
   "source": [
    "Asegúrate de que estás ejecutando el código de este _notebook_ en la máquina y desde el directorio que quieres\n",
    "\n",
    "**$\\rightarrow$ ejecuta** (`shift` + `return`)"
   ]
  },
  {
   "cell_type": "code",
   "execution_count": 14,
   "metadata": {
    "collapsed": false
   },
   "outputs": [
    {
     "name": "stdout",
     "output_type": "stream",
     "text": [
      "HOSTNAME      datasci\n",
      "CURRENT DIR   /home/user/share/teaching/parallel-computing/ucaldas.20162/teacher\n"
     ]
    }
   ],
   "source": [
    "import numpy as np\n",
    "import pandas as pd\n",
    "import matplotlib.pyplot as plt\n",
    "from time import time\n",
    "%matplotlib inline\n",
    "\n",
    "!echo \"HOSTNAME     \" `hostname`; \n",
    "!echo \"CURRENT DIR  \" `pwd`"
   ]
  },
  {
   "cell_type": "markdown",
   "metadata": {},
   "source": [
    "##  TAREA 1: Usa la semántica vectorizada de Python\n",
    "\n",
    "Completa las funciones `ji` y `vf` de forma que:\n",
    "\n",
    "- `ji` sea igual que `ij` pero recorriendo el bucle en el orden inverso (primero por `j` y luego por `i`\n",
    "- `vf` use la semántica vectorizada del operador `+` con matrices ... tu implementación ha de tener una sóla línea\n",
    "\n",
    "\n",
    "**$\\rightarrow$ ejecuta** (`shift` + `return`)"
   ]
  },
  {
   "cell_type": "code",
   "execution_count": 37,
   "metadata": {
    "collapsed": false
   },
   "outputs": [
    {
     "name": "stdout",
     "output_type": "stream",
     "text": [
      "original ---- \n",
      "[[1 2 3]\n",
      " [4 5 6]\n",
      " [7 8 9]]\n",
      "ji ---- \n",
      "[[ 2  3  4]\n",
      " [ 5  6  7]\n",
      " [ 8  9 10]]\n",
      "ij ---- \n",
      "[[ 2  3  4]\n",
      " [ 5  6  7]\n",
      " [ 8  9 10]]\n",
      "vect -- \n",
      "[[ 2  3  4]\n",
      " [ 5  6  7]\n",
      " [ 8  9 10]]\n"
     ]
    }
   ],
   "source": [
    "def ij(arr):\n",
    "    size = arr.shape[0]\n",
    "    r = arr.copy()\n",
    "    for i in range(size):\n",
    "      for j in range(size):\n",
    "        r[i,j] += 1\n",
    "    return r\n",
    "\n",
    "def ji(arr):\n",
    "    # TU CODIGO AQUI\n",
    "    return r\n",
    "        \n",
    "def vf(arr):\n",
    "    # TU CODIGO AQUI\n",
    "    return r\n",
    "        \n",
    "a = np.array([[1,2,3],[4,5,6],[7,8,9]])\n",
    "print \"original ---- \\n\",a\n",
    "ji(a)\n",
    "print \"ji ---- \\n\", ji(a)\n",
    "print \"ij ---- \\n\", ij(a)\n",
    "print \"vect -- \\n\", vf(a)"
   ]
  },
  {
   "cell_type": "markdown",
   "metadata": {},
   "source": [
    "### La función `measure_times` invoca funciones,  mide tiempos de ejecución y escribe los resultados en un fichero\n",
    "Observa los argumentos de la función: `sizes` ha de ser un vector con los tamaños de los arrays a modificar y `functions` una lista de funciones a ejecutar sobre los arrays.\n",
    "\n",
    "**$\\rightarrow$ ejecuta** (`shift` + `return`)\n"
   ]
  },
  {
   "cell_type": "code",
   "execution_count": 38,
   "metadata": {
    "collapsed": false
   },
   "outputs": [],
   "source": [
    "def measure_times(file_name, sizes, functions):\n",
    "    fr = open(file_name, \"w\")\n",
    "    header = \"iteration array_size\"\n",
    "    for f in functions:\n",
    "        header = header+\" elapsed_time_\"+f.__name__\n",
    "    fr.write(header+\"\\n\")\n",
    "    N = 10\n",
    "    c=0\n",
    "    for size in sizes:\n",
    "        times = dict()\n",
    "        for f in functions:\n",
    "            times[f.__name__] = np.zeros(N)\n",
    "            for n in range(N):\n",
    "                arr = np.random.random(size=(size,size))\n",
    "                t0 = time()\n",
    "                f (arr)\n",
    "                times[f.__name__][n] = time()-t0\n",
    "\n",
    "        pr = \"{0:d} {1:f}\".format(c, (1.0*size**2)/1024)\n",
    "        for f in functions:\n",
    "            pr = pr + \" {0:f}\".format(np.mean(times[f.__name__]))\n",
    "                                  \n",
    "        fr.write(pr+\"\\n\")\n",
    "        c += 1\n",
    "    fr.close()"
   ]
  },
  {
   "cell_type": "markdown",
   "metadata": {},
   "source": [
    "### Medimos los tiempos de ejecución para las funciones `ij`, `ji` y `vf` y cargamos los datos desde el archivo generado\n",
    "Observa cómo definimos la lista de funciones que pasamos como parámetro a `measure_times`\n",
    "\n",
    "**$\\rightarrow$ ejecuta** (`shift` + `return`)\n"
   ]
  },
  {
   "cell_type": "code",
   "execution_count": null,
   "metadata": {
    "collapsed": false
   },
   "outputs": [],
   "source": [
    "# medimos tiempos\n",
    "sizes = np.array([8, 16, 32, 64, 128, 384, 512, 640, 768] )\n",
    "functions = [ij, ji, vf]\n",
    "file_name = \"Parrays.data\"\n",
    "measure_times(file_name, sizes, functions)\n",
    "\n",
    "# cargamos fichero con tiempos medidos\n",
    "df = pd.read_csv(file_name, sep=\" \")\n",
    "df"
   ]
  },
  {
   "cell_type": "markdown",
   "metadata": {},
   "source": [
    "### Graficamos los tiempos obtenidos\n",
    "**$\\rightarrow$ ejecuta** (`shift` + `return`)"
   ]
  },
  {
   "cell_type": "code",
   "execution_count": null,
   "metadata": {
    "collapsed": false
   },
   "outputs": [],
   "source": [
    "def plot_measured_times(data_frame):\n",
    "    it_number = data_frame['iteration']\n",
    "    x_labels  = data_frame['array_size']\n",
    "\n",
    "    ax = plt.figure(figsize=(13,5)).add_subplot(111)\n",
    "    plots = []\n",
    "    legends = []\n",
    "    for k in df.keys()[2:]:\n",
    "        p, = ax.plot(it_number,data_frame[k], linewidth=5, alpha=0.5)\n",
    "        plots = plots + [p]\n",
    "        legends = legends + [k]\n",
    "\n",
    "    ax.set_xticks(it_number)\n",
    "    ax.legend(plots, legends, loc=2)\n",
    "    ax.set_xticklabels([str(int(i)) for i in x_labels])\n",
    "    ax.set_xlabel(\"total array size (KB)\")\n",
    "    ax.set_ylabel(\"secs\")\n",
    "    \n",
    "plot_measured_times(df)"
   ]
  },
  {
   "cell_type": "markdown",
   "metadata": {},
   "source": [
    "# PREGUNTAS:\n",
    "* ¿Qué diferencias observas con el código en C de la parte 1?\n",
    "* ¿Por qué el código vectorizado tiene un tiempo de ejecución tan diferente?"
   ]
  },
  {
   "cell_type": "markdown",
   "metadata": {},
   "source": [
    "--- TU RESPUESTA AQUí (double click) ---"
   ]
  },
  {
   "cell_type": "markdown",
   "metadata": {},
   "source": [
    "## Observa cómo se vectoriza una función cualquiera en Python"
   ]
  },
  {
   "cell_type": "code",
   "execution_count": 3,
   "metadata": {
    "collapsed": false
   },
   "outputs": [],
   "source": [
    "import numpy as np\n",
    "def functionA(x,y):\n",
    "    print \"called with\",x,y\n",
    "    r = np.zeros(a.shape)\n",
    "    for i in range(len(a)):\n",
    "        r[i] = x[i]+y[i]**2\n",
    "    return r\n",
    "\n",
    "from numba import vectorize, float64, int64\n",
    "\n",
    "@vectorize([float64(float64, float64)], target=\"cpu\")\n",
    "def functionV(x,y):\n",
    "    print \"called with\",x,y\n",
    "    return x+y**2"
   ]
  },
  {
   "cell_type": "code",
   "execution_count": 4,
   "metadata": {
    "collapsed": false
   },
   "outputs": [
    {
     "name": "stdout",
     "output_type": "stream",
     "text": [
      "called with [1 2 3] [4 5 6]\n",
      "[ 17.  27.  39.]\n",
      "--\n",
      "called with\n",
      "1.0\n",
      "4.0\n",
      "\n",
      "called with\n",
      "2.0\n",
      "5.0\n",
      "\n",
      "called with\n",
      "3.0\n",
      "6.0\n",
      "\n",
      "[ 17.  27.  39.]\n"
     ]
    }
   ],
   "source": [
    "a = np.array([1,2,3])\n",
    "b = np.array([4,5,6])\n",
    "print functionA(a,b)\n",
    "print \"--\"\n",
    "print functionV(a,b)"
   ]
  },
  {
   "cell_type": "code",
   "execution_count": 46,
   "metadata": {
    "collapsed": false
   },
   "outputs": [
    {
     "name": "stdout",
     "output_type": "stream",
     "text": [
      "CPU times: user 0 ns, sys: 0 ns, total: 0 ns\n",
      "Wall time: 71 µs\n"
     ]
    }
   ],
   "source": [
    "def functionA(x,y):\n",
    "    r = np.zeros(a.shape)\n",
    "    for i in range(len(a)):\n",
    "        r[i] = x[i]+y[i]**2\n",
    "    return r\n",
    "\n",
    "%time c=functionA(a,b)"
   ]
  },
  {
   "cell_type": "code",
   "execution_count": 47,
   "metadata": {
    "collapsed": false
   },
   "outputs": [
    {
     "name": "stdout",
     "output_type": "stream",
     "text": [
      "The slowest run took 17.60 times longer than the fastest. This could mean that an intermediate result is being cached.\n",
      "1000000 loops, best of 3: 1.98 µs per loop\n"
     ]
    }
   ],
   "source": [
    "@vectorize([float64(float64, float64)], target=\"cpu\")\n",
    "def functionV(x,y):\n",
    "    return x+y**2\n",
    "\n",
    "%timeit c=functionV(a,b)"
   ]
  },
  {
   "cell_type": "markdown",
   "metadata": {},
   "source": [
    "# TAREA 2: Vectoriza la siguiente función\n",
    "de forma análoga al ejemplo anterior\n"
   ]
  },
  {
   "cell_type": "code",
   "execution_count": 56,
   "metadata": {
    "collapsed": true
   },
   "outputs": [],
   "source": [
    "def ffunc(x,y):\n",
    "    r = np.zeros(len(x))\n",
    "    for i in range(len(x)):\n",
    "        r[i] = x[i] - y[i] if x[i]>y[i] else x[i]+y[i]\n",
    "    return r\n",
    "\n",
    "from numba import vectorize, float64, int64\n",
    "@vectorize([float64(float64, float64)], target=\"cpu\")\n",
    "def vfunc(x,y):\n",
    "    return ... # TU CODIGO AQUI"
   ]
  },
  {
   "cell_type": "markdown",
   "metadata": {},
   "source": [
    "Comprueba tu código y mide el desempeño"
   ]
  },
  {
   "cell_type": "code",
   "execution_count": 57,
   "metadata": {
    "collapsed": false
   },
   "outputs": [
    {
     "name": "stdout",
     "output_type": "stream",
     "text": [
      "[ 5.  1.  9.]\n",
      "---\n",
      "[ 5.  1.  9.]\n"
     ]
    }
   ],
   "source": [
    "a = np.array([1,6,3])\n",
    "b = np.array([4,5,6])\n",
    "\n",
    "print vfunc(a,b)\n",
    "print \"---\"\n",
    "print ffunc(a,b)"
   ]
  },
  {
   "cell_type": "code",
   "execution_count": 59,
   "metadata": {
    "collapsed": false
   },
   "outputs": [
    {
     "name": "stdout",
     "output_type": "stream",
     "text": [
      "1000 loops, best of 3: 978 µs per loop\n"
     ]
    }
   ],
   "source": [
    "a = np.random.random(1000)\n",
    "b = np.random.random(1000)\n",
    "\n",
    "%timeit ffunc(a,b)"
   ]
  },
  {
   "cell_type": "code",
   "execution_count": 60,
   "metadata": {
    "collapsed": false
   },
   "outputs": [
    {
     "name": "stdout",
     "output_type": "stream",
     "text": [
      "The slowest run took 26.36 times longer than the fastest. This could mean that an intermediate result is being cached.\n",
      "100000 loops, best of 3: 2.01 µs per loop\n"
     ]
    }
   ],
   "source": [
    "%timeit vfunc(a,b)"
   ]
  },
  {
   "cell_type": "markdown",
   "metadata": {},
   "source": [
    "# PREGUNTAS:\n",
    "* ¿Cuál es la diferencia entre la vectorización de la primera parte de este ejercicio y la segunda?\n",
    "* ¿Qué tipo de funciones son propensas a ser vectorizadas for `vectorize`?"
   ]
  },
  {
   "cell_type": "markdown",
   "metadata": {},
   "source": [
    "--- TU RESPUESTA AQUí (double click) ---"
   ]
  },
  {
   "cell_type": "code",
   "execution_count": null,
   "metadata": {
    "collapsed": false
   },
   "outputs": [],
   "source": []
  },
  {
   "cell_type": "code",
   "execution_count": null,
   "metadata": {
    "collapsed": false
   },
   "outputs": [],
   "source": []
  }
 ],
 "metadata": {
  "kernelspec": {
   "display_name": "Python 2",
   "language": "python",
   "name": "python2"
  },
  "language_info": {
   "codemirror_mode": {
    "name": "ipython",
    "version": 2
   },
   "file_extension": ".py",
   "mimetype": "text/x-python",
   "name": "python",
   "nbconvert_exporter": "python",
   "pygments_lexer": "ipython2",
   "version": "2.7.11"
  },
  "toc": {
   "toc_cell": false,
   "toc_number_sections": false,
   "toc_threshold": 6,
   "toc_window_display": false
  }
 },
 "nbformat": 4,
 "nbformat_minor": 0
}
