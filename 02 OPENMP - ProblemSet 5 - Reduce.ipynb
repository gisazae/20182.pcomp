{
 "cells": [
  {
   "cell_type": "code",
   "execution_count": null,
   "metadata": {
    "collapsed": false
   },
   "outputs": [],
   "source": [
    "import numpy as np\n",
    "import matplotlib.pyplot as plt\n",
    "import pandas as pd\n",
    "%matplotlib inline\n",
    "!echo \"HOSTNAME     \" `hostname`; \n",
    "!echo \"CURRENT DIR  \" `pwd`"
   ]
  },
  {
   "cell_type": "markdown",
   "metadata": {},
   "source": [
    "# TAREA: Paraleliza el siguiente código con `omp for reduction`"
   ]
  },
  {
   "cell_type": "code",
   "execution_count": null,
   "metadata": {
    "collapsed": false
   },
   "outputs": [],
   "source": [
    "%%writefile files/array_reduce.c\n",
    "/**\n",
    "  Based on Tim Mattons' tutorial at Intel\n",
    "  https://software.intel.com/en-us/courseware/249662\n",
    "**/\n",
    "\n",
    "#include <stdio.h>\n",
    "#include <omp.h>\n",
    "#include <stdlib.h>\n",
    "\n",
    "#define MAX_THREADS 16\n",
    "#define SIZE 10000000\n",
    "\n",
    "int main ()\n",
    "{\n",
    "    \n",
    "    double *a = (double *)malloc(sizeof(double)*SIZE);\n",
    "    int i,j;\n",
    "    double start_time, run_time;\n",
    "\n",
    "    // fill up some values\n",
    "    for (i=0; i<SIZE; i++) a[i] = 1;\n",
    "\n",
    "    printf(\"total secs nthreads\\n\");\n",
    "\n",
    "    for (j=1;j<=MAX_THREADS ;j++) {\n",
    "        omp_set_num_threads(j);\n",
    "        start_time = omp_get_wtime();\n",
    "\n",
    "\n",
    "        double total = 0.0;\n",
    "        for (i=0; i<SIZE; i++) total += a[i];\n",
    "\n",
    "        run_time = omp_get_wtime() - start_time;\n",
    "\n",
    "        printf(\"%f %f %d\\n\",total, run_time,j);\n",
    "    }\n",
    "}"
   ]
  },
  {
   "cell_type": "code",
   "execution_count": null,
   "metadata": {
    "collapsed": false
   },
   "outputs": [],
   "source": [
    "!make -f m/Makefile-p2.5.1 clean all "
   ]
  },
  {
   "cell_type": "code",
   "execution_count": null,
   "metadata": {
    "collapsed": false
   },
   "outputs": [],
   "source": [
    "!./files/array_reduce > files/array_reduce.data\n",
    "df = pd.read_csv(\"files/array_reduce.data\", sep=\" \")\n",
    "secs     = df['secs']\n",
    "nthreads = df['nthreads']\n",
    "total    = df['total']\n",
    "print np.mean(total)\n",
    "ideal_secs = secs[0] / nthreads\n",
    "ax = plt.figure(figsize=(10,5)).add_subplot(111)\n",
    "ax.plot(nthreads, secs, linewidth=5, alpha=0.5)\n",
    "ax.plot(nthreads, ideal_secs, linewidth=2, alpha=1., c=\"black\")"
   ]
  },
  {
   "cell_type": "markdown",
   "metadata": {},
   "source": [
    "# TAREA: Recuerda el código serie para calcular $\\pi$. Paralelízalo con `omp for reduction`"
   ]
  },
  {
   "cell_type": "code",
   "execution_count": null,
   "metadata": {
    "collapsed": false
   },
   "outputs": [],
   "source": [
    "%%writefile files/pi_reduce.c\n",
    "/**\n",
    "  Based on Tim Mattons' tutorial at Intel\n",
    "  https://software.intel.com/en-us/courseware/249662\n",
    "**/\n",
    "\n",
    "#include <stdio.h>\n",
    "#include <omp.h>\n",
    "\n",
    "#define MAX_THREADS 32\n",
    "\n",
    "static long num_steps = 100000000;\n",
    "double step;\n",
    "int main ()\n",
    "{\n",
    "    int i,j;\n",
    "    double pi, full_sum = 0.0;\n",
    "    double start_time, run_time;\n",
    "\n",
    "    step = 1.0/(double) num_steps;\n",
    "\n",
    "    printf(\"pi secs nthreads\\n\");\n",
    "\n",
    "    j=4;\n",
    "\n",
    "    for (j=1;j<=MAX_THREADS ;j++) {\n",
    "        omp_set_num_threads(j);\n",
    "        full_sum=0.0;\n",
    "        start_time = omp_get_wtime();\n",
    "\n",
    "        // --- TU CODIGO AQUI\n",
    "\n",
    "        run_time = omp_get_wtime() - start_time;\n",
    "        printf(\"%f %f %d\\n\",pi,run_time,j);\n",
    "    }\n",
    "}"
   ]
  },
  {
   "cell_type": "code",
   "execution_count": null,
   "metadata": {
    "collapsed": false
   },
   "outputs": [],
   "source": [
    "!make -f m/Makefile-p2.5.2 clean all > /dev/null"
   ]
  },
  {
   "cell_type": "code",
   "execution_count": null,
   "metadata": {
    "collapsed": false
   },
   "outputs": [],
   "source": [
    "!./files/pi_reduce > files/pi_reduce.data\n",
    "df = pd.read_csv(\"files/pi_reduce.data\", sep=\" \")\n",
    "secs     = df['secs']\n",
    "nthreads = df['nthreads']\n",
    "pi    = df['pi']\n",
    "print np.mean(pi)\n",
    "ideal_secs = secs[0] / nthreads\n",
    "ax = plt.figure(figsize=(10,5)).add_subplot(111)\n",
    "ax.plot(nthreads, secs, linewidth=5, alpha=0.5)\n",
    "ax.plot(nthreads, ideal_secs, linewidth=2, alpha=1., c=\"black\")"
   ]
  },
  {
   "cell_type": "code",
   "execution_count": null,
   "metadata": {
    "collapsed": false
   },
   "outputs": [],
   "source": []
  }
 ],
 "metadata": {
  "gist_id": "edecd4eea29eddb61940",
  "kernelspec": {
   "display_name": "Python 2",
   "language": "python",
   "name": "python2"
  },
  "language_info": {
   "codemirror_mode": {
    "name": "ipython",
    "version": 2
   },
   "file_extension": ".py",
   "mimetype": "text/x-python",
   "name": "python",
   "nbconvert_exporter": "python",
   "pygments_lexer": "ipython2",
   "version": "2.7.11"
  },
  "toc": {
   "toc_cell": false,
   "toc_number_sections": true,
   "toc_threshold": 6,
   "toc_window_display": false
  }
 },
 "nbformat": 4,
 "nbformat_minor": 0
}
