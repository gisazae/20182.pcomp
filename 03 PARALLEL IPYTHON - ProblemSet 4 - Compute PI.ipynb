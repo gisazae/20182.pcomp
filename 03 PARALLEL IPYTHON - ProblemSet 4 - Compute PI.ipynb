{
 "cells": [
  {
   "cell_type": "markdown",
   "metadata": {},
   "source": [
    "# Cálculo de $\\pi$ con el Método de Montecarlo"
   ]
  },
  {
   "cell_type": "code",
   "execution_count": 43,
   "metadata": {
    "collapsed": false
   },
   "outputs": [
    {
     "name": "stdout",
     "output_type": "stream",
     "text": [
      "available engines [0, 1]\n"
     ]
    }
   ],
   "source": [
    "import os,sys,time\n",
    "import numpy as np\n",
    "\n",
    "from IPython import parallel\n",
    "rc = parallel.Client()\n",
    "print \"available engines\", rc.ids"
   ]
  },
  {
   "cell_type": "code",
   "execution_count": 44,
   "metadata": {
    "collapsed": false
   },
   "outputs": [
    {
     "name": "stdout",
     "output_type": "stream",
     "text": [
      "[stdout:0] hola\n",
      "[stdout:1] hola\n"
     ]
    }
   ],
   "source": [
    "%px print \"hola\""
   ]
  },
  {
   "cell_type": "code",
   "execution_count": 45,
   "metadata": {
    "collapsed": true
   },
   "outputs": [],
   "source": [
    "def estimate_pi(N):\n",
    "    inside = 0\n",
    "    for i in xrange(int(N)):\n",
    "        r = np.random.random(2)\n",
    "        inside += np.sum(r**2) <= 1\n",
    "\n",
    "    return 4.*inside/N\n"
   ]
  },
  {
   "cell_type": "code",
   "execution_count": 46,
   "metadata": {
    "collapsed": false
   },
   "outputs": [
    {
     "name": "stdout",
     "output_type": "stream",
     "text": [
      "CPU times: user 982 ms, sys: 8 ms, total: 990 ms\n",
      "Wall time: 998 ms\n"
     ]
    },
    {
     "data": {
      "text/plain": [
       "3.14564"
      ]
     },
     "execution_count": 46,
     "metadata": {},
     "output_type": "execute_result"
    }
   ],
   "source": [
    "N = 1e5\n",
    "%time estimate_pi(N)"
   ]
  },
  {
   "cell_type": "markdown",
   "metadata": {},
   "source": [
    "## TAREA 1: Escribe una función que, si sacamos $N$ números aleatorios, cuente cuantos caen dentro de un círculo de radio 1"
   ]
  },
  {
   "cell_type": "code",
   "execution_count": 48,
   "metadata": {
    "collapsed": true
   },
   "outputs": [],
   "source": [
    "def count_inside(N):\n",
    "    inside = 0\n",
    "    \n",
    "    # TU CODIGO AQUI \n",
    "\n",
    "    return inside"
   ]
  },
  {
   "cell_type": "code",
   "execution_count": 52,
   "metadata": {
    "collapsed": false
   },
   "outputs": [
    {
     "name": "stdout",
     "output_type": "stream",
     "text": [
      "CPU times: user 1.05 s, sys: 1 ms, total: 1.05 s\n",
      "Wall time: 1.05 s\n"
     ]
    },
    {
     "data": {
      "text/plain": [
       "3.1396000000000002"
      ]
     },
     "execution_count": 52,
     "metadata": {},
     "output_type": "execute_result"
    }
   ],
   "source": [
    "N = 1e3\n",
    "\n",
    "%time count_inside(N)*4./N"
   ]
  },
  {
   "cell_type": "markdown",
   "metadata": {},
   "source": [
    "## TAREA 2: Usa `dv.apply` con la función anterior para distribuir $N$ entre los nodos disponibles en el cluster"
   ]
  },
  {
   "cell_type": "code",
   "execution_count": null,
   "metadata": {
    "collapsed": true
   },
   "outputs": [],
   "source": [
    "dv = rc.direct_view()\n",
    "print rc.ids"
   ]
  },
  {
   "cell_type": "code",
   "execution_count": null,
   "metadata": {
    "collapsed": false
   },
   "outputs": [],
   "source": [
    "# TU CODIGO AQUI"
   ]
  },
  {
   "cell_type": "markdown",
   "metadata": {},
   "source": [
    "## TAREA 3: Ejecuta tu código con 1, 2, 3, 4 y 5 engines en distintas máquinas y obtén la curva de escalabilidad\n",
    "\n",
    "Fíjate cómo medimos el tiempo con `%timeit` especificando cuantos repeticiones (`-r`) y cuantos loops (`-n`)"
   ]
  },
  {
   "cell_type": "code",
   "execution_count": 76,
   "metadata": {
    "collapsed": false
   },
   "outputs": [
    {
     "name": "stdout",
     "output_type": "stream",
     "text": [
      "2 loops, best of 3: 7.84 ms per loop\n"
     ]
    }
   ],
   "source": [
    "N = 1e3\n",
    "t = %timeit -o -r 3 -n 2 count_inside(N)*4./N"
   ]
  },
  {
   "cell_type": "markdown",
   "metadata": {},
   "source": [
    "obtén el tiempo con una máquina"
   ]
  },
  {
   "cell_type": "code",
   "execution_count": null,
   "metadata": {
    "collapsed": false
   },
   "outputs": [],
   "source": [
    "rc = parallel.Client()\n",
    "print \"available engines\", rc.ids\n",
    "\n",
    "t = %timeit .... # TU CODIGO AQUI\n",
    "\n",
    "t1 = t.best\n",
    "print t1"
   ]
  },
  {
   "cell_type": "markdown",
   "metadata": {},
   "source": [
    "obtén el tiempo con dos máquinas"
   ]
  },
  {
   "cell_type": "code",
   "execution_count": null,
   "metadata": {
    "collapsed": false
   },
   "outputs": [],
   "source": [
    "rc = parallel.Client()\n",
    "print \"available engines\", rc.ids\n",
    "\n",
    "t = %timeit .... # TU CODIGO AQUI\n",
    "\n",
    "t2 = t.best\n",
    "print t2"
   ]
  },
  {
   "cell_type": "markdown",
   "metadata": {
    "collapsed": false
   },
   "source": [
    "obtén el tiempo con tres máquinas"
   ]
  },
  {
   "cell_type": "code",
   "execution_count": null,
   "metadata": {
    "collapsed": false
   },
   "outputs": [],
   "source": [
    "rc = parallel.Client()\n",
    "print \"available engines\", rc.ids\n",
    "\n",
    "t = %timeit .... # TU CODIGO AQUI\n",
    "\n",
    "t3 = t.best\n",
    "print t3"
   ]
  },
  {
   "cell_type": "markdown",
   "metadata": {},
   "source": [
    "obtén el tiempo con cuatro máquinas"
   ]
  },
  {
   "cell_type": "code",
   "execution_count": null,
   "metadata": {
    "collapsed": false
   },
   "outputs": [],
   "source": [
    "rc = parallel.Client()\n",
    "print \"available engines\", rc.ids\n",
    "\n",
    "t = %timeit .... # TU CODIGO AQUI\n",
    "\n",
    "t4 = t.best\n",
    "print t4"
   ]
  },
  {
   "cell_type": "markdown",
   "metadata": {},
   "source": [
    "obtén el tiempo con cinco máquinas"
   ]
  },
  {
   "cell_type": "code",
   "execution_count": null,
   "metadata": {
    "collapsed": false
   },
   "outputs": [],
   "source": [
    "rc = parallel.Client()\n",
    "print \"available engines\", rc.ids\n",
    "\n",
    "t = %timeit .... # TU CODIGO AQUI\n",
    "\n",
    "t5 = t.best\n",
    "print t5"
   ]
  },
  {
   "cell_type": "code",
   "execution_count": null,
   "metadata": {
    "collapsed": false
   },
   "outputs": [],
   "source": [
    "%matplotlib inline\n",
    "import matplotlib.pyplot as plt\n",
    "plt.plot ([t1,t2,t3,t4,t5])"
   ]
  },
  {
   "cell_type": "code",
   "execution_count": null,
   "metadata": {
    "collapsed": true
   },
   "outputs": [],
   "source": []
  }
 ],
 "metadata": {
  "kernelspec": {
   "display_name": "Python 2",
   "language": "python",
   "name": "python2"
  },
  "language_info": {
   "codemirror_mode": {
    "name": "ipython",
    "version": 2
   },
   "file_extension": ".py",
   "mimetype": "text/x-python",
   "name": "python",
   "nbconvert_exporter": "python",
   "pygments_lexer": "ipython2",
   "version": "2.7.11"
  },
  "toc": {
   "toc_cell": false,
   "toc_number_sections": true,
   "toc_threshold": 6,
   "toc_window_display": false
  }
 },
 "nbformat": 4,
 "nbformat_minor": 0
}
