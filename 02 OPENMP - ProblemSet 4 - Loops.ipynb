{
 "cells": [
  {
   "cell_type": "code",
   "execution_count": null,
   "metadata": {
    "collapsed": false
   },
   "outputs": [],
   "source": [
    "import numpy as np\n",
    "import matplotlib.pyplot as plt\n",
    "import pandas as pd\n",
    "%matplotlib inline\n",
    "!echo \"HOSTNAME     \" `hostname`; \n",
    "!echo \"CURRENT DIR  \" `pwd`"
   ]
  },
  {
   "cell_type": "markdown",
   "metadata": {},
   "source": [
    "# TAREA: Paraleliza el siguiente código\n",
    "usando `omp for` y `omp critical` \n",
    "<br/>\n",
    "juega con distintos valores de `omp for schedule(static,n)` y observa la escalabilidad"
   ]
  },
  {
   "cell_type": "code",
   "execution_count": null,
   "metadata": {
    "collapsed": false
   },
   "outputs": [],
   "source": [
    "%%writefile files/array_total.c\n",
    "#include <stdio.h>\n",
    "#include <omp.h>\n",
    "#include <stdlib.h>\n",
    "\n",
    "#define MAX_THREADS 16\n",
    "#define SIZE 20000000\n",
    "\n",
    "int main ()\n",
    "{\n",
    "    \n",
    "    double *a = (double *)malloc(sizeof(double)*SIZE);\n",
    "    int i,j;\n",
    "    double start_time, run_time;\n",
    "\n",
    "    // fill up some values\n",
    "    for (i=0; i<SIZE; i++) a[i] = 1;\n",
    "\n",
    "    printf(\"total secs nthreads\\n\");\n",
    "\n",
    "    for (j=1;j<=MAX_THREADS ;j++) {\n",
    "        omp_set_num_threads(j);\n",
    "        start_time = omp_get_wtime();\n",
    "\n",
    "        // --- ESTE ES EL CODIGO QUE TIENES QUE PARALELIZAR\n",
    "        double total = 0.0;\n",
    "        for (i=0; i<SIZE; i++) {\n",
    "            total += a[i];\n",
    "        }            \n",
    "        // --- HASTA AQUI\n",
    "\n",
    "        run_time = omp_get_wtime() - start_time;\n",
    "        printf(\"%f %f %d\\n\",total, run_time,j);\n",
    "    }\n",
    "}"
   ]
  },
  {
   "cell_type": "code",
   "execution_count": null,
   "metadata": {
    "collapsed": false
   },
   "outputs": [],
   "source": [
    "!make -f m/Makefile-p2.4.1 clean all"
   ]
  },
  {
   "cell_type": "code",
   "execution_count": null,
   "metadata": {
    "collapsed": false
   },
   "outputs": [],
   "source": [
    "!./files/array_total > files/array_total.data\n",
    "df = pd.read_csv(\"files/array_total.data\", sep=\" \")\n",
    "secs     = df['secs']\n",
    "nthreads = df['nthreads']\n",
    "total    = df['total']\n",
    "print np.mean(total)\n",
    "ideal_secs = secs[0] / nthreads\n",
    "ax = plt.figure(figsize=(10,5)).add_subplot(111)\n",
    "ax.plot(nthreads, secs, linewidth=5, alpha=0.5)\n",
    "ax.plot(nthreads, ideal_secs, linewidth=2, alpha=1., c=\"black\")\n"
   ]
  },
  {
   "cell_type": "markdown",
   "metadata": {},
   "source": [
    "# TAREA: Paraleliza los bucles del siguiente código\n",
    "# PREGUNTA\n",
    "+ Explica porqué unas operaciones tardan más que otras\n"
   ]
  },
  {
   "cell_type": "code",
   "execution_count": null,
   "metadata": {
    "collapsed": false
   },
   "outputs": [],
   "source": [
    "%%writefile files/array_sum.c\n",
    "#include <stdio.h>\n",
    "#include <omp.h>\n",
    "#include <stdlib.h>\n",
    "\n",
    "#define MAX_THREADS 10\n",
    "#define SIZE 10000000\n",
    "#define ATYPE double\n",
    "\n",
    "int main ()\n",
    "{\n",
    "    \n",
    "    ATYPE *a = (ATYPE *)malloc(sizeof(ATYPE)*SIZE);\n",
    "    ATYPE *c = (ATYPE *)malloc(sizeof(ATYPE)*SIZE);\n",
    "    int i,j;\n",
    "    double start_time, run_time1, run_time2, run_time3, run_time4, run_time5;\n",
    "\n",
    "    printf(\"secs1 secs2 secs3 secs4 secs5 nthreads\\n\");\n",
    "\n",
    "    for (j=1;j<=MAX_THREADS ;j++) {\n",
    "        omp_set_num_threads(j);\n",
    "        ATYPE x = 12;\n",
    "\n",
    "        for (i=0; i<SIZE; i++) {\n",
    "            c[i] = 2;\n",
    "            a[i] = 10;\n",
    "        }\n",
    "\n",
    "        start_time = omp_get_wtime();\n",
    "        for (i=0; i<SIZE; i++) x = 10*i;\n",
    "        run_time1 = omp_get_wtime() - start_time;\n",
    "\n",
    "        start_time = omp_get_wtime();\n",
    "        for (i=0; i<SIZE; i++) x = c[i]*10;\n",
    "        run_time2 = omp_get_wtime() - start_time;\n",
    "\n",
    "        start_time = omp_get_wtime();\n",
    "        for (i=0; i<SIZE; i++) c[i] = c[i]*x;\n",
    "        run_time4 = omp_get_wtime() - start_time;\n",
    "\n",
    "        start_time = omp_get_wtime();\n",
    "        for (i=0; i<SIZE; i++) c[i] = a[i]*x;\n",
    "        run_time5 = omp_get_wtime() - start_time;\n",
    "\n",
    "        start_time = omp_get_wtime();\n",
    "        for (i=0; i<SIZE; i++) c[i]=x;\n",
    "        run_time3 = omp_get_wtime() - start_time;\n",
    "\n",
    "        printf(\"%f %f %f %f %f %d\\n\", run_time1,run_time2, run_time3, run_time4, run_time5, j);\n",
    "    } \n",
    "}"
   ]
  },
  {
   "cell_type": "code",
   "execution_count": null,
   "metadata": {
    "collapsed": false
   },
   "outputs": [],
   "source": [
    "!make -f m/Makefile-p2.4.2 clean all"
   ]
  },
  {
   "cell_type": "code",
   "execution_count": null,
   "metadata": {
    "collapsed": false
   },
   "outputs": [],
   "source": [
    "!./files/array_sum > files/array_sum.data\n",
    "df = pd.read_csv(\"files/array_sum.data\", sep=\" \")\n",
    "secs1     = df['secs1']\n",
    "secs2     = df['secs2']\n",
    "secs3     = df['secs3']\n",
    "secs4     = df['secs4']\n",
    "secs5     = df['secs5']\n",
    "nthreads = df['nthreads']\n",
    "ideal_secs = np.min([secs1[0],secs2[0], secs3[0], secs4[0]]) / nthreads\n",
    "ax = plt.figure(figsize=(10,5)).add_subplot(111)\n",
    "ps1, = ax.plot(nthreads, secs1, linewidth=5, alpha=0.5)\n",
    "ps2, = ax.plot(nthreads, secs2, linewidth=5, alpha=0.5)\n",
    "ps3, = ax.plot(nthreads, secs3, linewidth=5, alpha=0.5)\n",
    "ps4, = ax.plot(nthreads, secs4, linewidth=5, alpha=0.5)\n",
    "ps5, = ax.plot(nthreads, secs5, linewidth=5, alpha=0.5)\n",
    "pi, = ax.plot(nthreads, ideal_secs, linewidth=2, alpha=1., c=\"black\")\n",
    "ax.legend([ps1,ps2,ps3,ps4,ps5, pi],[\"1. only op\" , \"2. read only\", \"3. write only\", \"4. read-write\", \"5. cross rw\", \"ideal\"])"
   ]
  }
 ],
 "metadata": {
  "gist_id": "edecd4eea29eddb61940",
  "kernelspec": {
   "display_name": "Python 2",
   "language": "python",
   "name": "python2"
  },
  "language_info": {
   "codemirror_mode": {
    "name": "ipython",
    "version": 2
   },
   "file_extension": ".py",
   "mimetype": "text/x-python",
   "name": "python",
   "nbconvert_exporter": "python",
   "pygments_lexer": "ipython2",
   "version": "2.7.11"
  },
  "toc": {
   "toc_cell": false,
   "toc_number_sections": true,
   "toc_threshold": 6,
   "toc_window_display": false
  }
 },
 "nbformat": 4,
 "nbformat_minor": 0
}
