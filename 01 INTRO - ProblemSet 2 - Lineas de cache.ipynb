{
 "cells": [
  {
   "cell_type": "markdown",
   "metadata": {},
   "source": [
    "# Lineas de cache\n",
    "### LEE ATENTAMENTE ESTE `notebook` EJECUTANDO SUS CELDAS. COMPLETA Y CONTESTA LAS CELDAS QUE CORRESPONDAN"
   ]
  },
  {
   "cell_type": "markdown",
   "metadata": {},
   "source": [
    "Asegúrate de que estás ejecutando el código de este _notebook_ en la máquina y desde el directorio que quieres\n",
    "\n",
    "**$\\rightarrow$ ejecuta** (`shift` + `return`)"
   ]
  },
  {
   "cell_type": "code",
   "execution_count": 1,
   "metadata": {
    "collapsed": false
   },
   "outputs": [
    {
     "name": "stdout",
     "output_type": "stream",
     "text": [
      "HOSTNAME      scicomp\n",
      "CURRENT DIR   /mnt/teaching/parallel-computing/ucaldas.20152.msc/student\n"
     ]
    }
   ],
   "source": [
    "import numpy as np\n",
    "import pandas as pd\n",
    "import matplotlib.pyplot as plt\n",
    "%matplotlib inline\n",
    "\n",
    "!echo \"HOSTNAME     \" `hostname`; \n",
    "!echo \"CURRENT DIR  \" `pwd`"
   ]
  },
  {
   "cell_type": "markdown",
   "metadata": {},
   "source": [
    "## Instrucciones\n",
    "\n",
    "Inspecciona y entiende el siguiente programa en C. Observa como:\n",
    "* creamos arrays de ciertos tipos de datos\n",
    "* recorremos varias veces el array con un paso diferente cada vez\n",
    "\n",
    "\n",
    "### ES RECOMENDABLE QUE EJECUTES LAS CELDAS DE ESTE NOTEBOOK ANTES EMPEZAR TU TAREA\n",
    "tratando de entender qué está haciendo el código y cómo interpretar los datos obtenidos\n",
    "\n",
    "# TAREA: Mide el tiempo de ejecución con los arrays de tipo `int`, `long` y `double`</font>\n",
    "mide los tiempos y almacénalos en las variables `time_int`, `time_long`, `time_double` y `time_long_double` de forma análoga a como se hace con la variable `time_char`.\n",
    "\n",
    "**$\\rightarrow$ modifica el código y sálvalo ** (`shift` + `return`)"
   ]
  },
  {
   "cell_type": "code",
   "execution_count": 43,
   "metadata": {
    "collapsed": false
   },
   "outputs": [
    {
     "name": "stdout",
     "output_type": "stream",
     "text": [
      "Overwriting files/cache_line_example.c\n"
     ]
    }
   ],
   "source": [
    "%%writefile files/cache_line_example.c\n",
    "\n",
    "#include <stdlib.h>\n",
    "#include \"rlxutils.h\"\n",
    "\n",
    "int main(int argc, char **argv) {\n",
    "    struct timespec tsi, tsf;\n",
    "\n",
    "    long const SIZE = 10*1024*1024;\n",
    "\n",
    "    char   *array_char   = malloc(SIZE*sizeof(char));\n",
    "    int    *array_int    = malloc(SIZE*sizeof(int));\n",
    "    long   *array_long   = malloc(SIZE*sizeof(long));\n",
    "    double *array_double = malloc(SIZE*sizeof(double));\n",
    "    long double *array_long_double = malloc(SIZE*sizeof(long double));\n",
    "\n",
    "    printf(\"size of char         %lu\\n\", sizeof(char));\n",
    "    printf(\"size of int          %lu\\n\", sizeof(int));\n",
    "    printf(\"size of long         %lu\\n\", sizeof(long));\n",
    "    printf(\"size of double       %lu\\n\", sizeof(double));\n",
    "    printf(\"size of float        %lu\\n\", sizeof(float));\n",
    "    printf(\"size of long double  %lu\\n\", sizeof(long double));\n",
    "\n",
    "    int i,j, g;\n",
    "    for (i = 0; i < SIZE; i++) {\n",
    "        array_int[i] = 3;\n",
    "        array_char[i] = 3;\n",
    "        array_long[i] = 3;\n",
    "        array_double[i] = 3;\n",
    "        array_long_double[i] = 3;\n",
    "    }\n",
    "\n",
    "    char *fname = \"files/cache_line.data\";\n",
    "    printf (\"writing to file %s\\n\", fname);\n",
    "    FILE *f = fopen(fname, \"w\");\n",
    "    fprintf(f, \"step_size elapsed_time_char elapsed_time_int elapsed_time_long elapsed_time_double elapsed_time_long_double\\n\");\n",
    "\n",
    "    int k[13] = {1,2,4,8,16,32,64,128,256,512,1024, 2048, 4096};\n",
    "    int N = 10;\n",
    "    for (j=0; j<13; j++) {\n",
    "\n",
    "        int step = k[j];\n",
    "        double time_char = 0;\n",
    "        double time_int  = 0;\n",
    "        double time_long = 0;\n",
    "        double time_double = 0;\n",
    "        double time_long_double = 0;\n",
    "\n",
    "        current_utc_time(&tsi);\n",
    "        for (g = 0; g<N; g++) for (i = 0; i < SIZE; i+=step) array_char[i] *= 3;    \n",
    "        current_utc_time(&tsf);\n",
    "        time_char = get_time_diff(tsi, tsf);\n",
    "\n",
    "        //  =========== MODIFICA DESDE AQUI ============\n",
    "\n",
    "        //  =========== MODIFICA HASTA AQUI ============\n",
    "\n",
    "        fprintf(f,\"%u %lf %lf %lf %lf %lf\\n\", step, time_char, time_int, time_long, time_double, time_long_double);\n",
    "    }\n",
    "    fclose(f);\n",
    "    return 0; \n",
    "\n",
    "}"
   ]
  },
  {
   "cell_type": "markdown",
   "metadata": {},
   "source": [
    "### Compila tu código\n",
    "\n",
    "**$\\rightarrow$ ejecuta** (`shift` + `return`)"
   ]
  },
  {
   "cell_type": "code",
   "execution_count": null,
   "metadata": {
    "collapsed": false
   },
   "outputs": [],
   "source": [
    "!make -f m/Makefile-p1.3 clean all"
   ]
  },
  {
   "cell_type": "markdown",
   "metadata": {},
   "source": [
    "### Ejecuta tu código\n",
    "\n",
    "**$\\rightarrow$ ejecuta** (`shift` + `return`)\n",
    "<br/>y espera a que acabe la ejecución, observa el tamaño de cada variable"
   ]
  },
  {
   "cell_type": "code",
   "execution_count": null,
   "metadata": {
    "collapsed": false
   },
   "outputs": [],
   "source": [
    "!./files/cache_line_example"
   ]
  },
  {
   "cell_type": "markdown",
   "metadata": {},
   "source": [
    "### Carga los datos generados por el programa en C en un `DataFrame` de Python\n",
    "\n",
    "**$\\rightarrow$ ejecuta** (`shift` + `return`)"
   ]
  },
  {
   "cell_type": "code",
   "execution_count": null,
   "metadata": {
    "collapsed": false
   },
   "outputs": [],
   "source": [
    "file_name=\"files/cache_line.data\"\n",
    "df = pd.read_csv(file_name, sep=\" \")\n",
    "step_size           = df['step_size']\n",
    "elapsed_time_int    = df['elapsed_time_int']\n",
    "elapsed_time_long   = df['elapsed_time_long']\n",
    "elapsed_time_char   = df['elapsed_time_char']\n",
    "elapsed_time_double = df['elapsed_time_double']\n",
    "elapsed_time_long_double = df['elapsed_time_long_double']\n",
    "df"
   ]
  },
  {
   "cell_type": "markdown",
   "metadata": {},
   "source": [
    "### Pinta los datos\n",
    "observa como representamos los datos en **ESCALA LOGARÍTMICA** y pintamos el resultado ideal, en el que cada step size tarda la mitad del anterior\n",
    "\n",
    "**$\\rightarrow$ ejecuta** (`shift` + `return`)"
   ]
  },
  {
   "cell_type": "code",
   "execution_count": null,
   "metadata": {
    "collapsed": false
   },
   "outputs": [],
   "source": [
    "ideal_time = 1./np.power(2, np.array(range(len(step_size))))\n",
    "\n",
    "ax = plt.figure(figsize=(10,5)).add_subplot(111)\n",
    "pideal,  = ax.plot(df.index, np.log2(ideal_time), linewidth=3, alpha=0.5)\n",
    "pchar,   = ax.plot(df.index, np.log2(elapsed_time_char), linewidth=3, alpha=0.5)\n",
    "pint,    = ax.plot(df.index, np.log2(elapsed_time_int), linewidth=3, alpha=0.5)\n",
    "plong,   = ax.plot(df.index, np.log2(elapsed_time_long), linewidth=3, alpha=0.5)\n",
    "pdouble, = ax.plot(df.index, np.log2(elapsed_time_double), linewidth=3, alpha=0.5)\n",
    "pldouble, = ax.plot(df.index, np.log2(elapsed_time_long_double), linewidth=3, alpha=0.5)\n",
    "ax.set_xticks(df.index)\n",
    "ax.set_xticklabels(step_size)\n",
    "ax.set_xlabel(\"step size\")\n",
    "ax.set_ylabel(\"log secs\")\n",
    "ax.legend([pideal, pchar, pint, plong, pdouble, pldouble], \n",
    "          [\"pendiente ideal\", \"char (1)\", \"int (4)\", \"long (8)\", \"double (8)\", \"long double (16)\"])"
   ]
  },
  {
   "cell_type": "markdown",
   "metadata": {},
   "source": [
    "# PREGUNTAS:\n",
    "* ¿Con qué `step_size` se pierde la analogía con la pendiente ideal para cada tipo de dato?\n",
    "* ¿Por qué con cada tipo de dato el comportamiento es distinto? ¿Qué relación hay?"
   ]
  },
  {
   "cell_type": "markdown",
   "metadata": {},
   "source": [
    "--- TU RESPUESTA AQUí (double click) ---"
   ]
  },
  {
   "cell_type": "code",
   "execution_count": null,
   "metadata": {
    "collapsed": false
   },
   "outputs": [],
   "source": []
  }
 ],
 "metadata": {
  "kernelspec": {
   "display_name": "Python 2",
   "language": "python",
   "name": "python2"
  },
  "language_info": {
   "codemirror_mode": {
    "name": "ipython",
    "version": 2
   },
   "file_extension": ".py",
   "mimetype": "text/x-python",
   "name": "python",
   "nbconvert_exporter": "python",
   "pygments_lexer": "ipython2",
   "version": "2.7.11"
  },
  "toc": {
   "toc_cell": false,
   "toc_number_sections": true,
   "toc_threshold": 6,
   "toc_window_display": false
  }
 },
 "nbformat": 4,
 "nbformat_minor": 0
}
