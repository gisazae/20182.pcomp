{
 "cells": [
  {
   "cell_type": "code",
   "execution_count": 2,
   "metadata": {
    "collapsed": false
   },
   "outputs": [],
   "source": [
    "import os,sys,time\n",
    "import numpy as np\n",
    "import matplotlib.pyplot as plt\n",
    "%matplotlib inline\n",
    "from IPython import parallel"
   ]
  },
  {
   "cell_type": "markdown",
   "metadata": {},
   "source": [
    "## Exploración de configuraciones de estimadores\n",
    "\n",
    "- usando Suppor Vector Machines y Decision Trees\n",
    "- usa el `metadata` para ver la distribución de tareas y mide cuánto tardó cada tarea en ejecutarse\n",
    "- haz el ejercicio con `DirectView` y con `LoadBalancedView`"
   ]
  },
  {
   "cell_type": "code",
   "execution_count": 213,
   "metadata": {
    "collapsed": false
   },
   "outputs": [],
   "source": [
    "from sklearn.svm import SVC\n",
    "from sklearn.tree import DecisionTreeClassifier\n",
    "\n",
    "estimators = []\n",
    "for gamma in [0.01, 0.05]: #, 0.1, 0.3, 0.6, 0.9, 1., 1.5, 2.]:\n",
    "    for C in [0.01, 0.1]: #, 0.5, 1., 10.]:\n",
    "        estimators.append(SVC(gamma=gamma, C=C))\n",
    "        \n",
    "for max_depth in [1,2,3,4,5]:\n",
    "    estimators.append(DecisionTreeClassifier(max_depth=max_depth))\n"
   ]
  },
  {
   "cell_type": "code",
   "execution_count": 181,
   "metadata": {
    "collapsed": false,
    "scrolled": false
   },
   "outputs": [
    {
     "name": "stdout",
     "output_type": "stream",
     "text": [
      "9\n"
     ]
    }
   ],
   "source": [
    "print len(estimators)"
   ]
  },
  {
   "cell_type": "code",
   "execution_count": 182,
   "metadata": {
    "collapsed": false
   },
   "outputs": [
    {
     "name": "stdout",
     "output_type": "stream",
     "text": [
      "available engines [1, 2]\n"
     ]
    }
   ],
   "source": [
    "rc = parallel.Client()\n",
    "print \"available engines\", rc.ids"
   ]
  },
  {
   "cell_type": "markdown",
   "metadata": {},
   "source": [
    "## TAREA 1: Paraleliza con `DirectView` y `%px`\n",
    "\n",
    "Usamos un DirectView para:\n",
    "- enviar `d` y `c` a todos los engines\n",
    "- hacer un scatter de la lista de estimadores\n",
    "\n",
    "Usamos `%px` para:\n",
    "- definir la función `fit_estimator` en los engines\n",
    "- ejecutar la función `fit_estimator` con la porción de la lista de estimadores que le tocó a cada engine"
   ]
  },
  {
   "cell_type": "code",
   "execution_count": 183,
   "metadata": {
    "collapsed": false
   },
   "outputs": [],
   "source": [
    "dv = rc.direct_view()\n",
    "\n",
    "# --- TU CODIGO AQUI: ENVIA d y c a todos los engines\n",
    "\n",
    "# --- TU CODIGO AQUI: DISTRIBUYE estimators ENTRE LOS ENGINES\n"
   ]
  },
  {
   "cell_type": "code",
   "execution_count": 114,
   "metadata": {
    "collapsed": true
   },
   "outputs": [],
   "source": [
    "%%px\n",
    "from sklearn import cross_validation\n",
    "import numpy as np\n",
    "def fit_estimator(estimator, d, c, test_size):\n",
    "    d_train, d_test, c_train, c_test = cross_validation.train_test_split(d, \n",
    "                                                                         c, \n",
    "                                                                         test_size=test_size, \n",
    "                                                                         random_state=np.random.randint(1,100))\n",
    "    estimator.fit(d_train, c_train)\n",
    "    return np.array([estimator.score(d_train, c_train), estimator.score(d_test, c_test)])"
   ]
  },
  {
   "cell_type": "code",
   "execution_count": null,
   "metadata": {
    "collapsed": true
   },
   "outputs": [],
   "source": [
    "## -- TU CODIGO AQUI\n",
    "## -- ejecuta la función fit_estimator en cada engine con %px \n",
    "## -- usando la porcion de los estimators que le toco a cada uno"
   ]
  },
  {
   "cell_type": "markdown",
   "metadata": {},
   "source": [
    "## TAREA 2: Paraleliza con `DirectView` y `map`\n",
    "\n",
    "- además inspeccionamos el metadata de la ejecución"
   ]
  },
  {
   "cell_type": "code",
   "execution_count": 199,
   "metadata": {
    "collapsed": false
   },
   "outputs": [],
   "source": [
    "dv.clear()"
   ]
  },
  {
   "cell_type": "code",
   "execution_count": 201,
   "metadata": {
    "collapsed": true
   },
   "outputs": [],
   "source": [
    "## -- TU CODIGO AQUI\n",
    "## -- ejecuta la función fit_estimator en cada engine con dv.map\n",
    "## -- usando la porcion de los estimators que le toco a cada uno\n",
    "r = ..."
   ]
  },
  {
   "cell_type": "code",
   "execution_count": 202,
   "metadata": {
    "collapsed": false
   },
   "outputs": [],
   "source": [
    "rs = r.get()\n"
   ]
  },
  {
   "cell_type": "markdown",
   "metadata": {},
   "source": [
    "fíjate como ahora inspeccionamos los metadatos de la ejecución"
   ]
  },
  {
   "cell_type": "code",
   "execution_count": null,
   "metadata": {
    "collapsed": false
   },
   "outputs": [],
   "source": [
    "for i in range(len(r.metadata)):\n",
    "    tsub = r.metadata[i][\"started\"]\n",
    "    tcom = r.metadata[i][\"completed\"]\n",
    "    print \"task\", i, (tcom-tsub).total_seconds(), \"secs\"\n"
   ]
  },
  {
   "cell_type": "markdown",
   "metadata": {},
   "source": [
    "## TAREA 3: `LoadBalancedView` con `map`"
   ]
  },
  {
   "cell_type": "code",
   "execution_count": 209,
   "metadata": {
    "collapsed": true
   },
   "outputs": [],
   "source": [
    "lb = rc.load_balanced_view()"
   ]
  },
  {
   "cell_type": "code",
   "execution_count": 207,
   "metadata": {
    "collapsed": true
   },
   "outputs": [],
   "source": [
    "## -- TU CODIGO AQUI\n",
    "## -- ejecuta la función fit_estimator en cada engine con lb.map\n",
    "## -- usando la porcion de los estimators que le toco a cada uno\n",
    "r = ...\n"
   ]
  },
  {
   "cell_type": "code",
   "execution_count": null,
   "metadata": {
    "collapsed": false
   },
   "outputs": [],
   "source": [
    "rs = r.get()\n",
    "print rs"
   ]
  },
  {
   "cell_type": "code",
   "execution_count": null,
   "metadata": {
    "collapsed": false
   },
   "outputs": [],
   "source": [
    "for i in range(len(r.metadata)):\n",
    "    tsub = r.metadata[i][\"started\"]\n",
    "    tcom = r.metadata[i][\"completed\"]\n",
    "    print \"task\", i, (tcom-tsub).total_seconds(), \"secs\"\n"
   ]
  },
  {
   "cell_type": "code",
   "execution_count": null,
   "metadata": {
    "collapsed": true
   },
   "outputs": [],
   "source": []
  }
 ],
 "metadata": {
  "kernelspec": {
   "display_name": "Python 2",
   "language": "python",
   "name": "python2"
  },
  "language_info": {
   "codemirror_mode": {
    "name": "ipython",
    "version": 2
   },
   "file_extension": ".py",
   "mimetype": "text/x-python",
   "name": "python",
   "nbconvert_exporter": "python",
   "pygments_lexer": "ipython2",
   "version": "2.7.12"
  },
  "toc": {
   "toc_cell": false,
   "toc_number_sections": true,
   "toc_threshold": 6,
   "toc_window_display": false
  },
  "widgets": {
   "state": {},
   "version": "1.1.2"
  }
 },
 "nbformat": 4,
 "nbformat_minor": 0
}
