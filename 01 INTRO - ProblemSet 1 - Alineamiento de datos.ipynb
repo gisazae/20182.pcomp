{
 "cells": [
  {
   "cell_type": "markdown",
   "metadata": {},
   "source": [
    "# Alineamiento de datos\n",
    "\n",
    "### LEE ATENTAMENTE ESTE `notebook` EJECUTANDO SUS CELDAS. COMPLETA Y CONTESTA LAS CELDAS QUE CORRESPONDAN"
   ]
  },
  {
   "cell_type": "code",
   "execution_count": null,
   "metadata": {},
   "outputs": [],
   "source": [
    "import numpy as np\n",
    "import pandas as pd\n",
    "import matplotlib.pyplot as plt\n",
    "%matplotlib inline\n",
    "\n",
    "!echo \"HOSTNAME     \" `hostname`; \n",
    "!echo \"CURRENT DIR  \" `pwd`"
   ]
  },
  {
   "cell_type": "markdown",
   "metadata": {},
   "source": [
    "## Instrucciones\n",
    "Inspecciona y entiende el siguiente programa en C. Observa como:\n",
    "* la función `ji` recorre un array de dos dimensiones modificando cada elemento\n",
    "* la función `main` crea arrays de distintos tamaños y, para cada tamaño, ejecuta varias veces las funciones `ij` y `ji` y promedia los tiempos de ejecución de cada una\n",
    "* los tiempos promedios de ejecución de cada función se escriben en un fichero y también en `stdout`\n",
    "\n",
    "\n",
    "### ES RECOMENDABLE QUE EJECUTES LAS CELDAS DE ESTE NOTEBOOK ANTES EMPEZAR TU TAREA\n",
    "tratando de entender qué está haciendo el código y cómo interpretar los datos obtenidos\n",
    "\n",
    "# TAREA: Programa la función `ij` en C\n",
    "de forma idéntica a la función `ji` pero intercambiando el orden de los bucles `for` (haciendo un `for` sobre la variable `j` dentro de un `for` sobre la variable `i`)\n",
    "\n",
    "**$\\rightarrow$ modifica el código y sálvalo ** (`shift` + `return`)"
   ]
  },
  {
   "cell_type": "code",
   "execution_count": null,
   "metadata": {},
   "outputs": [],
   "source": [
    "%%writefile files/access_order_example.c\n",
    "#include <stdlib.h>\n",
    "#include \"rlxutils.h\"\n",
    "\n",
    "void ji(char *arr, long SIZE) {\n",
    "    long i,j;\n",
    "    for (j=0; j<SIZE; j++) {\n",
    "     for (i=0; i<SIZE; i++) {\n",
    "         arr[i+SIZE*j]++;\n",
    "     }\n",
    "    }\n",
    "}\n",
    "\n",
    "void ij(char *arr, long SIZE) {\n",
    "    //  =========== MODIFICA DESDE AQUI ============\n",
    "    //  recorre el array en orden inverso a la funcion ij\n",
    "    //  aumentando el valor de cada elemento en una unidad\n",
    "    // =========== MODIFICA HASTA AQUI ============\n",
    "}\n",
    "\n",
    "int main(int argc, char **argv) {\n",
    "    struct timespec tsi, tsf;\n",
    "    long N = 10;  \n",
    "    long i,j,k,s;\n",
    "    double time_diff;\n",
    "\n",
    "    char *fname = \"files/Carrays.data\";\n",
    "    printf (\"writing to file %s and stdout\\n\", fname);\n",
    "    FILE *f = fopen(fname, \"w\");\n",
    "    if (f == NULL)\n",
    "    {\n",
    "        printf(\"Error opening file %s\\n\",fname);\n",
    "        exit(1);\n",
    "    }\n",
    "\n",
    "    double time_ij[N];\n",
    "    double time_ji[N];\n",
    "\n",
    "    long sizes[] = {8, 16, 32, 64, 128, 384, 512, 640, 768, 1024, 1536, 2048, 2560,3072, 3584, 4096, 4608, 5120};\n",
    "\n",
    "    long ssizes = sizeof(sizes)/sizeof(long);\n",
    "    char *header = \"iteration array_size elapsed_time_ij elapsed_time_ji\\n\";\n",
    "    printf(    \"%s\", header);\n",
    "    fprintf(f, \"%s\", header);\n",
    "\n",
    "    for (s=0; s<ssizes; s++) {\n",
    "      long array_size = sizes[s];\n",
    "      for (k=0; k<N; k++) {\n",
    "\n",
    "          char *arr = malloc(array_size*array_size*sizeof(char));\n",
    "          current_utc_time(&tsi);\n",
    "          ij(arr, array_size);\n",
    "          current_utc_time(&tsf);\n",
    "          time_ij[k] = get_time_diff(tsi, tsf);\n",
    "\n",
    "          current_utc_time(&tsi);\n",
    "          ji(arr, array_size);\n",
    "          current_utc_time(&tsf);\n",
    "          time_ji[k] = get_time_diff(tsi, tsf);\n",
    "\n",
    "          free(arr);\n",
    "      }\n",
    "      double total_array_size = power(sizes[s],2);\n",
    "      printf(    \"%lu %3.10f %lf %lf\\n\",s, total_array_size/1024, avg(time_ij, N), avg(time_ji,N));\n",
    "      fprintf(f, \"%lu %3.10f %lf %lf\\n\",s, total_array_size/1024, avg(time_ij, N), avg(time_ji,N));\n",
    "\n",
    "    }\n",
    "    fclose(f);\n",
    "    return 0; \n",
    "\n",
    "}"
   ]
  },
  {
   "cell_type": "markdown",
   "metadata": {},
   "source": [
    "### Compila tu código\n",
    "\n",
    "**$\\rightarrow$ ejecuta** (`shift` + `return`)"
   ]
  },
  {
   "cell_type": "code",
   "execution_count": null,
   "metadata": {
    "scrolled": false
   },
   "outputs": [],
   "source": [
    "!make -f m/Makefile-p1.1 clean all"
   ]
  },
  {
   "cell_type": "markdown",
   "metadata": {},
   "source": [
    "### Ejecuta tu código\n",
    "\n",
    "**$\\rightarrow$ ejecuta** (`shift` + `return`)\n",
    "<br/>y espera a que acabe la ejecución, observa el formato de los datos de salida"
   ]
  },
  {
   "cell_type": "code",
   "execution_count": null,
   "metadata": {},
   "outputs": [],
   "source": [
    "!./files/access_order_example "
   ]
  },
  {
   "cell_type": "markdown",
   "metadata": {},
   "source": [
    "### Carga los datos generados por el programa en C en un `DataFrame` de Python\n",
    "\n",
    "**$\\rightarrow$ ejecuta** (`shift` + `return`)"
   ]
  },
  {
   "cell_type": "code",
   "execution_count": null,
   "metadata": {},
   "outputs": [],
   "source": [
    "file_name = \"files/Carrays.data\"\n",
    "df = pd.read_csv(file_name, sep=\" \")\n",
    "\n",
    "it_number = df['iteration']\n",
    "x_labels  = df['array_size']\n",
    "\n",
    "df"
   ]
  },
  {
   "cell_type": "markdown",
   "metadata": {},
   "source": [
    "### Pinta los datos\n",
    "observa cómo hacemos el eje horizontal aparecer como una escala no lineal con el tamaño total del array generado $(N^2)$\n",
    "\n",
    "**$\\rightarrow$ ejecuta** (`shift` + `return`)"
   ]
  },
  {
   "cell_type": "code",
   "execution_count": null,
   "metadata": {},
   "outputs": [],
   "source": [
    "ax = plt.figure(figsize=(13,5)).add_subplot(111)\n",
    "plots = []\n",
    "legends = []\n",
    "for k in df.keys()[2:]:\n",
    "    p, = ax.plot(it_number,df[k], linewidth=5, alpha=0.5)\n",
    "    plots = plots + [p]\n",
    "    legends = legends+[k]\n",
    "\n",
    "ax.set_xticks(it_number)\n",
    "ax.legend(plots, legends, loc=2)\n",
    "ax.set_xticklabels([str(int(i)) for i in x_labels])\n",
    "ax.set_xlabel(\"total array size (KB)\")\n",
    "ax.set_ylabel(\"secs\")"
   ]
  },
  {
   "cell_type": "markdown",
   "metadata": {},
   "source": [
    "# PREGUNTAS:\n",
    "* ¿En qué orden crees más conveniente recorrer el array, primero por filas o primero por columnas?\n",
    "* ¿Por qué? ¿Cómo explicas las diferencias de tiempos y de comportamiento?"
   ]
  },
  {
   "cell_type": "markdown",
   "metadata": {},
   "source": [
    "--- TU RESPUESTA AQUí (double click) ---"
   ]
  },
  {
   "cell_type": "code",
   "execution_count": null,
   "metadata": {},
   "outputs": [],
   "source": []
  }
 ],
 "metadata": {
  "kernelspec": {
   "display_name": "Python 2",
   "language": "python",
   "name": "python2"
  },
  "language_info": {
   "codemirror_mode": {
    "name": "ipython",
    "version": 2
   },
   "file_extension": ".py",
   "mimetype": "text/x-python",
   "name": "python",
   "nbconvert_exporter": "python",
   "pygments_lexer": "ipython2",
   "version": "2.7.14"
  },
  "toc": {
   "toc_cell": false,
   "toc_number_sections": true,
   "toc_threshold": 6,
   "toc_window_display": false
  }
 },
 "nbformat": 4,
 "nbformat_minor": 1
}
