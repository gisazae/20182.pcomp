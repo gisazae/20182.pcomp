{
 "cells": [
  {
   "cell_type": "markdown",
   "metadata": {},
   "source": [
    "# OMP warm-up\n",
    "### LEE ATENTAMENTE ESTE `notebook` EJECUTANDO SUS CELDAS. COMPLETA Y CONTESTA LAS CELDAS QUE CORRESPONDAN\n",
    "Asegúrate de que estás ejecutando el código de este _notebook_ en la máquina y desde el directorio que quieres\n",
    "\n",
    "**$\\rightarrow$ ejecuta** (`shift` + `return`)"
   ]
  },
  {
   "cell_type": "code",
   "execution_count": null,
   "metadata": {
    "collapsed": false
   },
   "outputs": [],
   "source": [
    "!echo \"HOSTNAME     \" `hostname`; \n",
    "!echo \"CURRENT DIR  \" `pwd`"
   ]
  },
  {
   "cell_type": "markdown",
   "metadata": {},
   "source": [
    "## Instrucciones\n",
    "Inspecciona y entiende el siguiente programa en C. Observa como:\n",
    "* la **anotación** `#pragma omp parallel ...` provoca una bifurcación en varios threads paralelos\n",
    "* la variable de entorno `OMP_NUM_THREADS` especifica cuantos threads se crean\n",
    "\n",
    "**$\\rightarrow$ salva el siguiente código ** (`shift` + `return`)"
   ]
  },
  {
   "cell_type": "code",
   "execution_count": null,
   "metadata": {
    "collapsed": false
   },
   "outputs": [],
   "source": [
    "%%writefile files/omp_hello.c\n",
    "\n",
    "#include <omp.h>\n",
    "#include <stdio.h>\n",
    "\n",
    "int main (int argc, char *argv[])\n",
    "{\n",
    "    int thread_id;\n",
    "    int nthreads = omp_get_num_threads();\n",
    "    printf(\"Antes de bifurcar el numero total de threads es %d\\n\", nthreads);\n",
    "\n",
    "    #pragma omp parallel private(thread_id)\n",
    "    {\n",
    "        thread_id = omp_get_thread_num();\n",
    "        printf(\"Este es el thread numero %d\\n\", thread_id);\n",
    "\n",
    "        if (thread_id == 0)\n",
    "        {\n",
    "            nthreads = omp_get_num_threads();\n",
    "            printf(\"Este es el thread master, con id %d. El numero total de threads ahora es %d\\n\", thread_id, nthreads);\n",
    "        }\n",
    "    }\n",
    "\n",
    "    return 0;\n",
    "}\n"
   ]
  },
  {
   "cell_type": "markdown",
   "metadata": {},
   "source": [
    "**$\\rightarrow$ compila el código ... ** (`shift` + `return`)"
   ]
  },
  {
   "cell_type": "code",
   "execution_count": null,
   "metadata": {
    "collapsed": false
   },
   "outputs": [],
   "source": [
    "!make -f m/Makefile-p2.1 clean all"
   ]
  },
  {
   "cell_type": "markdown",
   "metadata": {},
   "source": [
    "**$\\rightarrow$ ejecuta tu aplicación ... ** (`shift` + `return`)"
   ]
  },
  {
   "cell_type": "code",
   "execution_count": null,
   "metadata": {
    "collapsed": false
   },
   "outputs": [],
   "source": [
    "!export OMP_NUM_THREADS=10; ./files/omp_hello"
   ]
  },
  {
   "cell_type": "markdown",
   "metadata": {},
   "source": [
    "# TAREA: Modifica el código C anterior.\n",
    "\n",
    "* elimina la parte `private (thread_id)` dejando únicamente `#pragma omp parallel`\n",
    "* aumenta el número de threads a 20\n",
    "* ejecuta varias veces la aplicación observando atentamente la salida hasta que observes algo distinto\n",
    "\n",
    "# PREGUNTAS:\n",
    "* ¿Qué observas distinto de la aplicación?\n",
    "* ¿Cómo lo explicas?"
   ]
  },
  {
   "cell_type": "markdown",
   "metadata": {},
   "source": [
    "--- TU RESPUESTA AQUí (double click) ---"
   ]
  },
  {
   "cell_type": "code",
   "execution_count": null,
   "metadata": {
    "collapsed": false
   },
   "outputs": [],
   "source": []
  }
 ],
 "metadata": {
  "kernelspec": {
   "display_name": "Python 2",
   "language": "python",
   "name": "python2"
  },
  "language_info": {
   "codemirror_mode": {
    "name": "ipython",
    "version": 2
   },
   "file_extension": ".py",
   "mimetype": "text/x-python",
   "name": "python",
   "nbconvert_exporter": "python",
   "pygments_lexer": "ipython2",
   "version": "2.7.11"
  },
  "toc": {
   "toc_cell": false,
   "toc_number_sections": true,
   "toc_threshold": 6,
   "toc_window_display": false
  }
 },
 "nbformat": 4,
 "nbformat_minor": 0
}
