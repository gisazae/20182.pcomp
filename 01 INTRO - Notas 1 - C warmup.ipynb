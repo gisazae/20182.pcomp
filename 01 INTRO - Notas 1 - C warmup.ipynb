{
 "cells": [
  {
   "cell_type": "markdown",
   "metadata": {},
   "source": [
    "# Repaso de algunos aspectos del lenguaje C\n",
    "Asegúrate de que estás ejecutando el código de este _notebook_ en la máquina y desde el directorio que quieres\n",
    "\n",
    "**$\\rightarrow$ ejecuta** (`shift` + `return`)"
   ]
  },
  {
   "cell_type": "code",
   "execution_count": 1,
   "metadata": {},
   "outputs": [
    {
     "name": "stdout",
     "output_type": "stream",
     "text": [
      "HOSTNAME      datasci\n",
      "CURRENT DIR   /home/user/share/Dropbox/teaching/parallel-computing/ucaldas.20162/student\n"
     ]
    }
   ],
   "source": [
    "!echo \"HOSTNAME     \" `hostname`; \n",
    "!echo \"CURRENT DIR  \" `pwd`"
   ]
  },
  {
   "cell_type": "markdown",
   "metadata": {},
   "source": [
    "# 1. Compilación y ejecución\n",
    "**$\\rightarrow$ ejecuta cada celda** (`shift` + `return`)"
   ]
  },
  {
   "cell_type": "code",
   "execution_count": 2,
   "metadata": {},
   "outputs": [
    {
     "name": "stdout",
     "output_type": "stream",
     "text": [
      "Overwriting files/c_warmup.c\n"
     ]
    }
   ],
   "source": [
    "%%writefile files/c_warmup.c\n",
    "#include <stdio.h>\n",
    "\n",
    "int main(int argc, char **argv) {\n",
    "    printf(\"-----\\n¿Qué pasó?\\n-----\\n\");\n",
    "}"
   ]
  },
  {
   "cell_type": "code",
   "execution_count": 21,
   "metadata": {},
   "outputs": [
    {
     "name": "stdout",
     "output_type": "stream",
     "text": [
      "rm -rf *.o files/c_warmup /home/user/share/Dropbox/teaching/parallel-computing/ucaldas.20162/student/utils/*.o\n",
      "--------------------------------------\n",
      "- bulding files/c_warmup\n",
      "--------------------------------------\n",
      "INCLUDES /home/user/share/Dropbox/teaching/parallel-computing/ucaldas.20162/student/utils\n",
      "SOURCES files/c_warmup.c /home/user/share/Dropbox/teaching/parallel-computing/ucaldas.20162/student/utils/rlxutils.c\n",
      "ROOT DIR /home/user/share/Dropbox/teaching/parallel-computing/ucaldas.20162/student/utils\n",
      "gcc -c -fopenmp -Wno-format -D LINUX -I/home/user/share/Dropbox/teaching/parallel-computing/ucaldas.20162/student/utils files/c_warmup.c -o files/c_warmup.o\n",
      "INCLUDES /home/user/share/Dropbox/teaching/parallel-computing/ucaldas.20162/student/utils\n",
      "SOURCES files/c_warmup.c /home/user/share/Dropbox/teaching/parallel-computing/ucaldas.20162/student/utils/rlxutils.c\n",
      "ROOT DIR /home/user/share/Dropbox/teaching/parallel-computing/ucaldas.20162/student/utils\n",
      "gcc -c -fopenmp -Wno-format -D LINUX -I/home/user/share/Dropbox/teaching/parallel-computing/ucaldas.20162/student/utils /home/user/share/Dropbox/teaching/parallel-computing/ucaldas.20162/student/utils/rlxutils.c -o /home/user/share/Dropbox/teaching/parallel-computing/ucaldas.20162/student/utils/rlxutils.o\n",
      "gcc files/c_warmup.o /home/user/share/Dropbox/teaching/parallel-computing/ucaldas.20162/student/utils/rlxutils.o -o files/c_warmup -fopenmp -lrt \n"
     ]
    }
   ],
   "source": [
    "!make -f m/Makefile-n1.1 clean all"
   ]
  },
  {
   "cell_type": "code",
   "execution_count": 6,
   "metadata": {},
   "outputs": [
    {
     "name": "stdout",
     "output_type": "stream",
     "text": [
      "-----\r\n",
      "¿Qué pasó?\r\n",
      "-----\r\n"
     ]
    }
   ],
   "source": [
    "!./files/c_warmup"
   ]
  },
  {
   "cell_type": "markdown",
   "metadata": {},
   "source": [
    "# 2. Pointers and arrays\n",
    "**$\\rightarrow$ ejecuta cada celda** (`shift` + `return`)"
   ]
  },
  {
   "cell_type": "code",
   "execution_count": 7,
   "metadata": {},
   "outputs": [
    {
     "name": "stdout",
     "output_type": "stream",
     "text": [
      "Overwriting files/c_pointers.c\n"
     ]
    }
   ],
   "source": [
    "%%writefile files/c_pointers.c\n",
    "#include <stdio.h>\n",
    "\n",
    "int main(int argc, char **argv) {\n",
    "    printf (\"Sizes of data types (and pointers to)\\n\");\n",
    "    char _char;           char *ptr_char = &_char;\n",
    "    int _int;             int *ptr_int = &_int;\n",
    "    short _short;         short *ptr_short = &_short;\n",
    "    unsigned int _uint;   unsigned int *ptr_uint = &_uint;\n",
    "    long _long;           long *ptr_long = &_long;\n",
    "    unsigned long _ulong; unsigned long *ptr_ulong = &_ulong;\n",
    "    float _float;         float *ptr_float = &_float;\n",
    "    double _double;       double *ptr_double =&_double;\n",
    "    long double _ldouble; long double *ptr_ldouble = &_ldouble;\n",
    "\n",
    "    printf (\"  char          %d, %d\\n\", sizeof(char), sizeof(ptr_char));\n",
    "    printf (\"  int           %d, %d\\n\", sizeof(int), sizeof(ptr_int));\n",
    "    printf (\"  short         %d, %d\\n\", sizeof(short), sizeof(ptr_short));\n",
    "    printf (\"  unsigned int  %d, %d\\n\", sizeof(unsigned int), sizeof(ptr_uint));\n",
    "    printf (\"  long          %d, %d\\n\", sizeof(long), sizeof(ptr_long));\n",
    "    printf (\"  unsigned long %d, %d\\n\", sizeof(unsigned long), sizeof(ptr_ulong));\n",
    "    printf (\"  float         %d, %d\\n\", sizeof(float), sizeof(ptr_float));\n",
    "    printf (\"  double        %d, %d\\n\", sizeof(double), sizeof(ptr_double));\n",
    "    printf (\"  long double   %d, %d\\n\", sizeof(long double), sizeof(ptr_double));\n",
    "    printf (\"\\n\");\n",
    "\n",
    "    printf (\"Usage of pointers and unsigned data\\n\");    \n",
    "    double dn = 10.3045;\n",
    "    char   cn = 10;\n",
    "    float  fn = -12.34;\n",
    "    long double ldn = 10432.12;\n",
    "\n",
    "    double *ptr_dn = &dn;\n",
    "    char   *ptr_cn = &cn;\n",
    "    float  *ptr_fn = &fn;\n",
    "    long double *ptr_ldn = &ldn;\n",
    "    printf (\"  value of vars         %f, %d, %f, %f\\n\", dn, cn, fn, ldn);\n",
    "    printf (\"  value of pointed vars %f, %d, %f, %f\\n\", *ptr_dn, *ptr_cn, *ptr_fn, *ptr_ldn);\n",
    "    printf (\"  value of pointers     %u, %u, %u, %u\\n\", ptr_dn, ptr_cn, ptr_fn, ptr_ldn);\n",
    "    printf (\"\\n\");\n",
    "\n",
    "    printf (\"Usage of arrays\\n\");\n",
    "    int aint[3] = {9,3,902};\n",
    "    double adouble[3] = {3.5,6.7,0.354};\n",
    "    aint[2] = 9021;\n",
    "    *(aint+1) = 21;\n",
    "    printf (\"   elements by number          %d %d %d %d %f %f\\n\", aint[0], aint[1], *(aint+1), aint[2], adouble[2], *(adouble+2));\n",
    "    printf (\"   int elements by pointers    %d %d %d %d\\n\", aint, &aint[0], &aint[1], &aint[2]);\n",
    "    printf (\"   double elements by pointers %u %u %u %u\\n\", adouble, &adouble[0], &adouble[1], &adouble[2]);\n",
    "    return 0; \n",
    "\n",
    "}"
   ]
  },
  {
   "cell_type": "code",
   "execution_count": 22,
   "metadata": {},
   "outputs": [
    {
     "name": "stdout",
     "output_type": "stream",
     "text": [
      "rm -rf *.o files/c_pointers /home/user/share/Dropbox/teaching/parallel-computing/ucaldas.20162/student/utils/*.o\n",
      "--------------------------------------\n",
      "- bulding files/c_pointers\n",
      "--------------------------------------\n",
      "INCLUDES /home/user/share/Dropbox/teaching/parallel-computing/ucaldas.20162/student/utils\n",
      "SOURCES files/c_pointers.c /home/user/share/Dropbox/teaching/parallel-computing/ucaldas.20162/student/utils/rlxutils.c\n",
      "ROOT DIR /home/user/share/Dropbox/teaching/parallel-computing/ucaldas.20162/student/utils\n",
      "gcc -c -fopenmp -Wno-format -D LINUX -I/home/user/share/Dropbox/teaching/parallel-computing/ucaldas.20162/student/utils /home/user/share/Dropbox/teaching/parallel-computing/ucaldas.20162/student/utils/rlxutils.c -o /home/user/share/Dropbox/teaching/parallel-computing/ucaldas.20162/student/utils/rlxutils.o\n",
      "gcc files/c_pointers.o /home/user/share/Dropbox/teaching/parallel-computing/ucaldas.20162/student/utils/rlxutils.o -o files/c_pointers -fopenmp -lrt \n"
     ]
    }
   ],
   "source": [
    "!make -f m/Makefile-n1.2 clean all"
   ]
  },
  {
   "cell_type": "code",
   "execution_count": 23,
   "metadata": {},
   "outputs": [
    {
     "name": "stdout",
     "output_type": "stream",
     "text": [
      "Sizes of data types (and pointers to)\r\n",
      "  char          1, 8\r\n",
      "  int           4, 8\r\n",
      "  short         2, 8\r\n",
      "  unsigned int  4, 8\r\n",
      "  long          8, 8\r\n",
      "  unsigned long 8, 8\r\n",
      "  float         4, 8\r\n",
      "  double        8, 8\r\n",
      "  long double   16, 8\r\n",
      "\r\n",
      "Usage of pointers and unsigned data\r\n",
      "  value of vars         10.304500, 10, -12.340000, 0.000000\r\n",
      "  value of pointed vars 10.304500, 10, -12.340000, 0.000000\r\n",
      "  value of pointers     563552016, 563551973, 563551988, 563552144\r\n",
      "\r\n",
      "Usage of arrays\r\n",
      "   elements by number          9 21 21 9021 0.354000 0.354000\r\n",
      "   int elements by pointers    563552164 563552164 563552168 563552172\r\n",
      "   double elements by pointers 563552176 563552176 563552184 563552192\r\n"
     ]
    }
   ],
   "source": [
    "!./files/c_pointers"
   ]
  },
  {
   "cell_type": "markdown",
   "metadata": {},
   "source": [
    "# 3. Llamada a funciones y paso de parámetros"
   ]
  },
  {
   "cell_type": "code",
   "execution_count": 18,
   "metadata": {},
   "outputs": [
    {
     "name": "stdout",
     "output_type": "stream",
     "text": [
      "Overwriting files/c_fcall.c\n"
     ]
    }
   ],
   "source": [
    "%%writefile files/c_fcall.c\n",
    "#include <stdio.h>\n",
    "\n",
    "void f(unsigned int p1, unsigned int *p2) {\n",
    "    printf (\"  value and memory address of p1 %d(%d)\\n\", p1, &p1);\n",
    "    printf (\"  value and memory address of p2 %d(%d)\\n\", *p2, p2);\n",
    "\n",
    "    p1 = p1*2;\n",
    "    *p2 = *p2 * 2;\n",
    "    printf (\"  changed values p1=%u, p2=%u\\n\", p1, *p2);\n",
    "}\n",
    "\n",
    "int main(int argc, char **argv) {\n",
    "    unsigned int i1 = 10;\n",
    "    unsigned int i2 = 15;\n",
    "    printf (\"calling function with i1=%d (%u), i2=%u(%u)\\n\", i1, &i1, i2, &i2);\n",
    "    f (i1, &i2);\n",
    "    printf (\"values after function i1=%d (%u), i2=%u(%u)\\n\", i1, &i1, i2, &i2);\n",
    "    \n",
    "}"
   ]
  },
  {
   "cell_type": "code",
   "execution_count": 24,
   "metadata": {},
   "outputs": [
    {
     "name": "stdout",
     "output_type": "stream",
     "text": [
      "rm -rf *.o files/c_fcall /home/user/share/Dropbox/teaching/parallel-computing/ucaldas.20162/student/utils/*.o\n",
      "--------------------------------------\n",
      "- bulding files/c_fcall\n",
      "--------------------------------------\n",
      "INCLUDES /home/user/share/Dropbox/teaching/parallel-computing/ucaldas.20162/student/utils\n",
      "SOURCES files/c_fcall.c /home/user/share/Dropbox/teaching/parallel-computing/ucaldas.20162/student/utils/rlxutils.c\n",
      "ROOT DIR /home/user/share/Dropbox/teaching/parallel-computing/ucaldas.20162/student/utils\n",
      "gcc -c -fopenmp -Wno-format -D LINUX -I/home/user/share/Dropbox/teaching/parallel-computing/ucaldas.20162/student/utils /home/user/share/Dropbox/teaching/parallel-computing/ucaldas.20162/student/utils/rlxutils.c -o /home/user/share/Dropbox/teaching/parallel-computing/ucaldas.20162/student/utils/rlxutils.o\n",
      "gcc files/c_fcall.o /home/user/share/Dropbox/teaching/parallel-computing/ucaldas.20162/student/utils/rlxutils.o -o files/c_fcall -fopenmp -lrt \n"
     ]
    }
   ],
   "source": [
    "!make -f m/Makefile-n1.3 clean all"
   ]
  },
  {
   "cell_type": "code",
   "execution_count": 25,
   "metadata": {},
   "outputs": [
    {
     "name": "stdout",
     "output_type": "stream",
     "text": [
      "calling function with i1=10 (3189321248), i2=15(3189321252)\r\n",
      "  value and memory address of p1 10(-1105646084)\r\n",
      "  value and memory address of p2 15(-1105646044)\r\n",
      "  changed values p1=20, p2=30\r\n",
      "values after function i1=10 (3189321248), i2=30(3189321252)\r\n"
     ]
    }
   ],
   "source": [
    "!./files/c_fcall"
   ]
  },
  {
   "cell_type": "code",
   "execution_count": null,
   "metadata": {},
   "outputs": [],
   "source": []
  }
 ],
 "metadata": {
  "kernelspec": {
   "display_name": "Python 2",
   "language": "python",
   "name": "python2"
  },
  "language_info": {
   "codemirror_mode": {
    "name": "ipython",
    "version": 2
   },
   "file_extension": ".py",
   "mimetype": "text/x-python",
   "name": "python",
   "nbconvert_exporter": "python",
   "pygments_lexer": "ipython2",
   "version": "2.7.14"
  }
 },
 "nbformat": 4,
 "nbformat_minor": 1
}
