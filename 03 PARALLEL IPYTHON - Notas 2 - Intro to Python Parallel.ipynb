{
 "cells": [
  {
   "cell_type": "markdown",
   "metadata": {
    "collapsed": true
   },
   "source": [
    "# Lanzamiento de un cluster local para iPython parallel"
   ]
  },
  {
   "cell_type": "markdown",
   "metadata": {
    "collapsed": false
   },
   "source": [
    "En la máquina virtual:\n",
    "\n",
    "- usa la pestaña `Clusters` del navegador de ficheros\n",
    "\n",
    "En guane:\n",
    "\n",
    "- abre un terminal y lanza (usando, en vez de 4, el número de engines que quieras):\n",
    "\n",
    "        /usr/local/anaconda/bin/ipcluster start -n 4 \n",
    "\n",
    "\n",
    "- **ACUERDATE DE APAGAR EL CLUSTER CUANDO NO LO NECESITES** (CONTROL-C o `/usr/local/anaconda/bin/ipcluster stop`)\n",
    "\n"
   ]
  },
  {
   "cell_type": "markdown",
   "metadata": {},
   "source": [
    "### Crea un objeto cliente para empezar a interactuar con el cluster"
   ]
  },
  {
   "cell_type": "code",
   "execution_count": 5,
   "metadata": {
    "collapsed": false
   },
   "outputs": [
    {
     "name": "stdout",
     "output_type": "stream",
     "text": [
      "available engines [0, 1, 2, 3]\n"
     ]
    }
   ],
   "source": [
    "import os,sys,time\n",
    "import numpy as np\n",
    "\n",
    "from IPython import parallel\n",
    "rc = parallel.Client()\n",
    "print \"available engines\", rc.ids"
   ]
  },
  {
   "cell_type": "code",
   "execution_count": 6,
   "metadata": {
    "collapsed": true
   },
   "outputs": [],
   "source": [
    "dv = rc.direct_view()"
   ]
  },
  {
   "cell_type": "markdown",
   "metadata": {},
   "source": [
    "## 4. Ejecuta comandos en el cluster"
   ]
  },
  {
   "cell_type": "markdown",
   "metadata": {},
   "source": [
    "Mandamos ejecutar una función a cada engine e inspeccionamos su ejecución"
   ]
  },
  {
   "cell_type": "code",
   "execution_count": 7,
   "metadata": {
    "collapsed": true
   },
   "outputs": [],
   "source": [
    "dv = rc.direct_view()\n",
    "dr = dv.apply(lambda: \"hello\")"
   ]
  },
  {
   "cell_type": "code",
   "execution_count": 8,
   "metadata": {
    "collapsed": false
   },
   "outputs": [
    {
     "data": {
      "text/plain": [
       "['hello', 'hello', 'hello', 'hello']"
      ]
     },
     "execution_count": 8,
     "metadata": {},
     "output_type": "execute_result"
    }
   ],
   "source": [
    "dr.get()"
   ]
  },
  {
   "cell_type": "code",
   "execution_count": 9,
   "metadata": {
    "collapsed": false
   },
   "outputs": [
    {
     "data": {
      "text/plain": [
       "[{'after': [],\n",
       "  'completed': datetime.datetime(2016, 8, 13, 18, 20, 45, 757821),\n",
       "  'data': {},\n",
       "  'engine_id': 0,\n",
       "  'engine_uuid': '801d9e0a-a44e-49c1-9cd2-af6987c166be',\n",
       "  'error': None,\n",
       "  'execute_input': None,\n",
       "  'execute_result': None,\n",
       "  'follow': [],\n",
       "  'msg_id': '2c45aa24-e71b-448e-b950-0b6611920096',\n",
       "  'outputs': [],\n",
       "  'received': datetime.datetime(2016, 8, 13, 18, 20, 45, 759445),\n",
       "  'started': datetime.datetime(2016, 8, 13, 18, 20, 45, 560688),\n",
       "  'status': 'ok',\n",
       "  'stderr': '',\n",
       "  'stdout': '',\n",
       "  'submitted': datetime.datetime(2016, 8, 13, 18, 20, 45, 556561)},\n",
       " {'after': [],\n",
       "  'completed': datetime.datetime(2016, 8, 13, 18, 20, 45, 755587),\n",
       "  'data': {},\n",
       "  'engine_id': 1,\n",
       "  'engine_uuid': 'cf3ffbea-debf-43d0-b9f9-d6e50c241ec2',\n",
       "  'error': None,\n",
       "  'execute_input': None,\n",
       "  'execute_result': None,\n",
       "  'follow': [],\n",
       "  'msg_id': '4f052d82-0ba3-4ca1-a6f6-29cc3109dc08',\n",
       "  'outputs': [],\n",
       "  'received': datetime.datetime(2016, 8, 13, 18, 20, 45, 757392),\n",
       "  'started': datetime.datetime(2016, 8, 13, 18, 20, 45, 560784),\n",
       "  'status': 'ok',\n",
       "  'stderr': '',\n",
       "  'stdout': '',\n",
       "  'submitted': datetime.datetime(2016, 8, 13, 18, 20, 45, 557246)},\n",
       " {'after': [],\n",
       "  'completed': datetime.datetime(2016, 8, 13, 18, 20, 45, 749949),\n",
       "  'data': {},\n",
       "  'engine_id': 2,\n",
       "  'engine_uuid': 'b6e3b807-315a-4b46-a1af-024a2497decb',\n",
       "  'error': None,\n",
       "  'execute_input': None,\n",
       "  'execute_result': None,\n",
       "  'follow': [],\n",
       "  'msg_id': '0bee44bf-26ac-4747-919d-ffb173abbba0',\n",
       "  'outputs': [],\n",
       "  'received': datetime.datetime(2016, 8, 13, 18, 20, 45, 752648),\n",
       "  'started': datetime.datetime(2016, 8, 13, 18, 20, 45, 562684),\n",
       "  'status': 'ok',\n",
       "  'stderr': '',\n",
       "  'stdout': '',\n",
       "  'submitted': datetime.datetime(2016, 8, 13, 18, 20, 45, 557659)},\n",
       " {'after': [],\n",
       "  'completed': datetime.datetime(2016, 8, 13, 18, 20, 45, 758261),\n",
       "  'data': {},\n",
       "  'engine_id': 3,\n",
       "  'engine_uuid': '5536a8e6-5f76-45ad-ab5b-d4f3f756c3bf',\n",
       "  'error': None,\n",
       "  'execute_input': None,\n",
       "  'execute_result': None,\n",
       "  'follow': [],\n",
       "  'msg_id': '015de112-1920-4897-bc9a-b49ff6a98231',\n",
       "  'outputs': [],\n",
       "  'received': datetime.datetime(2016, 8, 13, 18, 20, 45, 761868),\n",
       "  'started': datetime.datetime(2016, 8, 13, 18, 20, 45, 563612),\n",
       "  'status': 'ok',\n",
       "  'stderr': '',\n",
       "  'stdout': '',\n",
       "  'submitted': datetime.datetime(2016, 8, 13, 18, 20, 45, 559100)}]"
      ]
     },
     "execution_count": 9,
     "metadata": {},
     "output_type": "execute_result"
    }
   ],
   "source": [
    "dr.metadata"
   ]
  },
  {
   "cell_type": "markdown",
   "metadata": {},
   "source": [
    "Con `map` mapeamos todos hacemos una operación sobre todos los elementos de una lista en paralelo"
   ]
  },
  {
   "cell_type": "code",
   "execution_count": 10,
   "metadata": {
    "collapsed": false
   },
   "outputs": [],
   "source": [
    "dr = dv.map_sync(lambda x: x**2, range(10))"
   ]
  },
  {
   "cell_type": "code",
   "execution_count": 11,
   "metadata": {
    "collapsed": false
   },
   "outputs": [
    {
     "data": {
      "text/plain": [
       "[0, 1, 4, 9, 16, 25, 36, 49, 64, 81]"
      ]
     },
     "execution_count": 11,
     "metadata": {},
     "output_type": "execute_result"
    }
   ],
   "source": [
    "dr"
   ]
  },
  {
   "cell_type": "markdown",
   "metadata": {},
   "source": [
    "accedemos y definimos variables en cada engine"
   ]
  },
  {
   "cell_type": "code",
   "execution_count": 12,
   "metadata": {
    "collapsed": false
   },
   "outputs": [
    {
     "ename": "CompositeError",
     "evalue": "one or more exceptions from call to method: _pull\n[Engine Exception]NameError: name 'a' is not defined\n[Engine Exception]NameError: name 'a' is not defined\n[Engine Exception]NameError: name 'a' is not defined\n[Engine Exception]NameError: name 'a' is not defined",
     "output_type": "error",
     "traceback": [
      "[Engine Exception]",
      "\u001b[1;31m---------------------------------------------------------------------------\u001b[0m\u001b[1;31mNameError\u001b[0m                                 Traceback (most recent call last)\u001b[1;32m<string>\u001b[0m in \u001b[0;36m<module>\u001b[1;34m()\u001b[0m",
      "\u001b[1;32m/usr/local/lib/python2.7/dist-packages/ipyparallel/util.py\u001b[0m in \u001b[0;36m_pull\u001b[1;34m(keys)\u001b[0m",
      "\u001b[0;32m    263\u001b[0m         \u001b[1;32mreturn\u001b[0m \u001b[1;33m[\u001b[0m\u001b[0meval\u001b[0m\u001b[1;33m(\u001b[0m\u001b[0mkey\u001b[0m\u001b[1;33m,\u001b[0m \u001b[0mglobals\u001b[0m\u001b[1;33m(\u001b[0m\u001b[1;33m)\u001b[0m\u001b[1;33m)\u001b[0m \u001b[1;32mfor\u001b[0m \u001b[0mkey\u001b[0m \u001b[1;32min\u001b[0m \u001b[0mkeys\u001b[0m\u001b[1;33m]\u001b[0m\u001b[1;33m\u001b[0m\u001b[0m",
      "\u001b[0;32m    264\u001b[0m     \u001b[1;32melse\u001b[0m\u001b[1;33m:\u001b[0m\u001b[1;33m\u001b[0m\u001b[0m",
      "\u001b[1;32m--> 265\u001b[1;33m         \u001b[1;32mreturn\u001b[0m \u001b[0meval\u001b[0m\u001b[1;33m(\u001b[0m\u001b[0mkeys\u001b[0m\u001b[1;33m,\u001b[0m \u001b[0mglobals\u001b[0m\u001b[1;33m(\u001b[0m\u001b[1;33m)\u001b[0m\u001b[1;33m)\u001b[0m\u001b[1;33m\u001b[0m\u001b[0m",
      "\u001b[0m\u001b[0;32m    266\u001b[0m \u001b[1;33m\u001b[0m\u001b[0m",
      "\u001b[0;32m    267\u001b[0m \u001b[1;33m@\u001b[0m\u001b[0minteractive\u001b[0m\u001b[1;33m\u001b[0m\u001b[0m",
      "\u001b[1;32m<string>\u001b[0m in \u001b[0;36m<module>\u001b[1;34m()\u001b[0m",
      "\u001b[1;31mNameError\u001b[0m: name 'a' is not defined",
      "",
      "[Engine Exception]",
      "\u001b[1;31m---------------------------------------------------------------------------\u001b[0m\u001b[1;31mNameError\u001b[0m                                 Traceback (most recent call last)\u001b[1;32m<string>\u001b[0m in \u001b[0;36m<module>\u001b[1;34m()\u001b[0m",
      "\u001b[1;32m/usr/local/lib/python2.7/dist-packages/ipyparallel/util.py\u001b[0m in \u001b[0;36m_pull\u001b[1;34m(keys)\u001b[0m",
      "\u001b[0;32m    263\u001b[0m         \u001b[1;32mreturn\u001b[0m \u001b[1;33m[\u001b[0m\u001b[0meval\u001b[0m\u001b[1;33m(\u001b[0m\u001b[0mkey\u001b[0m\u001b[1;33m,\u001b[0m \u001b[0mglobals\u001b[0m\u001b[1;33m(\u001b[0m\u001b[1;33m)\u001b[0m\u001b[1;33m)\u001b[0m \u001b[1;32mfor\u001b[0m \u001b[0mkey\u001b[0m \u001b[1;32min\u001b[0m \u001b[0mkeys\u001b[0m\u001b[1;33m]\u001b[0m\u001b[1;33m\u001b[0m\u001b[0m",
      "\u001b[0;32m    264\u001b[0m     \u001b[1;32melse\u001b[0m\u001b[1;33m:\u001b[0m\u001b[1;33m\u001b[0m\u001b[0m",
      "\u001b[1;32m--> 265\u001b[1;33m         \u001b[1;32mreturn\u001b[0m \u001b[0meval\u001b[0m\u001b[1;33m(\u001b[0m\u001b[0mkeys\u001b[0m\u001b[1;33m,\u001b[0m \u001b[0mglobals\u001b[0m\u001b[1;33m(\u001b[0m\u001b[1;33m)\u001b[0m\u001b[1;33m)\u001b[0m\u001b[1;33m\u001b[0m\u001b[0m",
      "\u001b[0m\u001b[0;32m    266\u001b[0m \u001b[1;33m\u001b[0m\u001b[0m",
      "\u001b[0;32m    267\u001b[0m \u001b[1;33m@\u001b[0m\u001b[0minteractive\u001b[0m\u001b[1;33m\u001b[0m\u001b[0m",
      "\u001b[1;32m<string>\u001b[0m in \u001b[0;36m<module>\u001b[1;34m()\u001b[0m",
      "\u001b[1;31mNameError\u001b[0m: name 'a' is not defined",
      "",
      "[Engine Exception]",
      "\u001b[1;31m---------------------------------------------------------------------------\u001b[0m\u001b[1;31mNameError\u001b[0m                                 Traceback (most recent call last)\u001b[1;32m<string>\u001b[0m in \u001b[0;36m<module>\u001b[1;34m()\u001b[0m",
      "\u001b[1;32m/usr/local/lib/python2.7/dist-packages/ipyparallel/util.py\u001b[0m in \u001b[0;36m_pull\u001b[1;34m(keys)\u001b[0m",
      "\u001b[0;32m    263\u001b[0m         \u001b[1;32mreturn\u001b[0m \u001b[1;33m[\u001b[0m\u001b[0meval\u001b[0m\u001b[1;33m(\u001b[0m\u001b[0mkey\u001b[0m\u001b[1;33m,\u001b[0m \u001b[0mglobals\u001b[0m\u001b[1;33m(\u001b[0m\u001b[1;33m)\u001b[0m\u001b[1;33m)\u001b[0m \u001b[1;32mfor\u001b[0m \u001b[0mkey\u001b[0m \u001b[1;32min\u001b[0m \u001b[0mkeys\u001b[0m\u001b[1;33m]\u001b[0m\u001b[1;33m\u001b[0m\u001b[0m",
      "\u001b[0;32m    264\u001b[0m     \u001b[1;32melse\u001b[0m\u001b[1;33m:\u001b[0m\u001b[1;33m\u001b[0m\u001b[0m",
      "\u001b[1;32m--> 265\u001b[1;33m         \u001b[1;32mreturn\u001b[0m \u001b[0meval\u001b[0m\u001b[1;33m(\u001b[0m\u001b[0mkeys\u001b[0m\u001b[1;33m,\u001b[0m \u001b[0mglobals\u001b[0m\u001b[1;33m(\u001b[0m\u001b[1;33m)\u001b[0m\u001b[1;33m)\u001b[0m\u001b[1;33m\u001b[0m\u001b[0m",
      "\u001b[0m\u001b[0;32m    266\u001b[0m \u001b[1;33m\u001b[0m\u001b[0m",
      "\u001b[0;32m    267\u001b[0m \u001b[1;33m@\u001b[0m\u001b[0minteractive\u001b[0m\u001b[1;33m\u001b[0m\u001b[0m",
      "\u001b[1;32m<string>\u001b[0m in \u001b[0;36m<module>\u001b[1;34m()\u001b[0m",
      "\u001b[1;31mNameError\u001b[0m: name 'a' is not defined",
      "",
      "[Engine Exception]",
      "\u001b[1;31m---------------------------------------------------------------------------\u001b[0m\u001b[1;31mNameError\u001b[0m                                 Traceback (most recent call last)\u001b[1;32m<string>\u001b[0m in \u001b[0;36m<module>\u001b[1;34m()\u001b[0m",
      "\u001b[1;32m/usr/local/lib/python2.7/dist-packages/ipyparallel/util.py\u001b[0m in \u001b[0;36m_pull\u001b[1;34m(keys)\u001b[0m",
      "\u001b[0;32m    263\u001b[0m         \u001b[1;32mreturn\u001b[0m \u001b[1;33m[\u001b[0m\u001b[0meval\u001b[0m\u001b[1;33m(\u001b[0m\u001b[0mkey\u001b[0m\u001b[1;33m,\u001b[0m \u001b[0mglobals\u001b[0m\u001b[1;33m(\u001b[0m\u001b[1;33m)\u001b[0m\u001b[1;33m)\u001b[0m \u001b[1;32mfor\u001b[0m \u001b[0mkey\u001b[0m \u001b[1;32min\u001b[0m \u001b[0mkeys\u001b[0m\u001b[1;33m]\u001b[0m\u001b[1;33m\u001b[0m\u001b[0m",
      "\u001b[0;32m    264\u001b[0m     \u001b[1;32melse\u001b[0m\u001b[1;33m:\u001b[0m\u001b[1;33m\u001b[0m\u001b[0m",
      "\u001b[1;32m--> 265\u001b[1;33m         \u001b[1;32mreturn\u001b[0m \u001b[0meval\u001b[0m\u001b[1;33m(\u001b[0m\u001b[0mkeys\u001b[0m\u001b[1;33m,\u001b[0m \u001b[0mglobals\u001b[0m\u001b[1;33m(\u001b[0m\u001b[1;33m)\u001b[0m\u001b[1;33m)\u001b[0m\u001b[1;33m\u001b[0m\u001b[0m",
      "\u001b[0m\u001b[0;32m    266\u001b[0m \u001b[1;33m\u001b[0m\u001b[0m",
      "\u001b[0;32m    267\u001b[0m \u001b[1;33m@\u001b[0m\u001b[0minteractive\u001b[0m\u001b[1;33m\u001b[0m\u001b[0m",
      "\u001b[1;32m<string>\u001b[0m in \u001b[0;36m<module>\u001b[1;34m()\u001b[0m",
      "\u001b[1;31mNameError\u001b[0m: name 'a' is not defined",
      ""
     ]
    }
   ],
   "source": [
    "dv.clear()\n",
    "dv[\"a\"]"
   ]
  },
  {
   "cell_type": "code",
   "execution_count": 13,
   "metadata": {
    "collapsed": false
   },
   "outputs": [
    {
     "data": {
      "text/plain": [
       "<AsyncResult: _push>"
      ]
     },
     "execution_count": 13,
     "metadata": {},
     "output_type": "execute_result"
    }
   ],
   "source": [
    "a = np.array([1,2,3,4])\n",
    "dv.push({\"a\": a+1})"
   ]
  },
  {
   "cell_type": "code",
   "execution_count": 14,
   "metadata": {
    "collapsed": false
   },
   "outputs": [
    {
     "data": {
      "text/plain": [
       "[array([2, 3, 4, 5]),\n",
       " array([2, 3, 4, 5]),\n",
       " array([2, 3, 4, 5]),\n",
       " array([2, 3, 4, 5])]"
      ]
     },
     "execution_count": 14,
     "metadata": {},
     "output_type": "execute_result"
    }
   ],
   "source": [
    "dv[\"a\"]"
   ]
  },
  {
   "cell_type": "markdown",
   "metadata": {},
   "source": [
    "Distribuimos y recogemos datos y exploramos el espacio de nombres de cada engine"
   ]
  },
  {
   "cell_type": "code",
   "execution_count": 15,
   "metadata": {
    "collapsed": false
   },
   "outputs": [
    {
     "name": "stdout",
     "output_type": "stream",
     "text": [
      "[2 9 9 0 4 3 1 9 4 1 6 6 7 8 1 4]\n"
     ]
    }
   ],
   "source": [
    "import numpy as np\n",
    "data = np.random.randint(10, size=16)\n",
    "print data\n",
    "dv.scatter('a',data);"
   ]
  },
  {
   "cell_type": "code",
   "execution_count": 16,
   "metadata": {
    "collapsed": false
   },
   "outputs": [
    {
     "data": {
      "text/plain": [
       "[array([2, 9, 9, 0]),\n",
       " array([4, 3, 1, 9]),\n",
       " array([4, 1, 6, 6]),\n",
       " array([7, 8, 1, 4])]"
      ]
     },
     "execution_count": 16,
     "metadata": {},
     "output_type": "execute_result"
    }
   ],
   "source": [
    "dv['a']"
   ]
  },
  {
   "cell_type": "code",
   "execution_count": 17,
   "metadata": {
    "collapsed": false
   },
   "outputs": [
    {
     "data": {
      "text/plain": [
       "[array([ 3, 10, 10,  1]),\n",
       " array([ 5,  4,  2, 10]),\n",
       " array([5, 2, 7, 7]),\n",
       " array([8, 9, 2, 5])]"
      ]
     },
     "execution_count": 17,
     "metadata": {},
     "output_type": "execute_result"
    }
   ],
   "source": [
    "dv.apply (lambda: a+1).get()"
   ]
  },
  {
   "cell_type": "code",
   "execution_count": 18,
   "metadata": {
    "collapsed": false
   },
   "outputs": [],
   "source": [
    "dv.execute(\"import numpy as np\")    \n",
    "def create_b():\n",
    "    global b\n",
    "    b = np.copy(a)+1"
   ]
  },
  {
   "cell_type": "code",
   "execution_count": 19,
   "metadata": {
    "collapsed": false
   },
   "outputs": [
    {
     "data": {
      "text/plain": [
       "<AsyncResult: create_b>"
      ]
     },
     "execution_count": 19,
     "metadata": {},
     "output_type": "execute_result"
    }
   ],
   "source": [
    "dv.apply(create_b)"
   ]
  },
  {
   "cell_type": "code",
   "execution_count": 20,
   "metadata": {
    "collapsed": false
   },
   "outputs": [
    {
     "data": {
      "text/plain": [
       "[array([ 3, 10, 10,  1]),\n",
       " array([ 5,  4,  2, 10]),\n",
       " array([5, 2, 7, 7]),\n",
       " array([8, 9, 2, 5])]"
      ]
     },
     "execution_count": 20,
     "metadata": {},
     "output_type": "execute_result"
    }
   ],
   "source": [
    "dv['b']"
   ]
  },
  {
   "cell_type": "code",
   "execution_count": 21,
   "metadata": {
    "collapsed": false
   },
   "outputs": [
    {
     "data": {
      "text/plain": [
       "array([ 3, 10, 10,  1,  5,  4,  2, 10,  5,  2,  7,  7,  8,  9,  2,  5])"
      ]
     },
     "execution_count": 21,
     "metadata": {},
     "output_type": "execute_result"
    }
   ],
   "source": [
    "dv.gather(\"b\").get()"
   ]
  },
  {
   "cell_type": "markdown",
   "metadata": {},
   "source": [
    "Fíjate cómo un array se distribuye por filas"
   ]
  },
  {
   "cell_type": "code",
   "execution_count": 22,
   "metadata": {
    "collapsed": false
   },
   "outputs": [
    {
     "name": "stdout",
     "output_type": "stream",
     "text": [
      "[[9 1 5 4 8]\n",
      " [8 9 5 2 9]\n",
      " [9 6 3 1 0]\n",
      " [4 8 5 5 1]\n",
      " [1 9 5 1 5]\n",
      " [5 7 8 5 5]\n",
      " [1 0 2 9 7]\n",
      " [7 4 2 6 0]\n",
      " [4 4 2 1 5]\n",
      " [1 7 5 1 6]]\n",
      "[array([[9, 1, 5, 4, 8],\n",
      "       [8, 9, 5, 2, 9],\n",
      "       [9, 6, 3, 1, 0]]), array([[4, 8, 5, 5, 1],\n",
      "       [1, 9, 5, 1, 5],\n",
      "       [5, 7, 8, 5, 5]]), array([[1, 0, 2, 9, 7],\n",
      "       [7, 4, 2, 6, 0]]), array([[4, 4, 2, 1, 5],\n",
      "       [1, 7, 5, 1, 6]])]\n"
     ]
    }
   ],
   "source": [
    "data = np.random.randint(10, size=(10,5))\n",
    "print data\n",
    "dv.scatter('a',data);\n",
    "print dv['a']"
   ]
  },
  {
   "cell_type": "markdown",
   "metadata": {},
   "source": [
    "Para distribuir por columnas usamos la transpuesta"
   ]
  },
  {
   "cell_type": "code",
   "execution_count": 23,
   "metadata": {
    "collapsed": false
   },
   "outputs": [
    {
     "name": "stdout",
     "output_type": "stream",
     "text": [
      "[array([[9, 8, 9, 4, 1, 5, 1, 7, 4, 1],\n",
      "       [1, 9, 6, 8, 9, 7, 0, 4, 4, 7]]), array([[5, 5, 3, 5, 5, 8, 2, 2, 2, 5]]), array([[4, 2, 1, 5, 1, 5, 9, 6, 1, 1]]), array([[8, 9, 0, 1, 5, 5, 7, 0, 5, 6]])]\n"
     ]
    }
   ],
   "source": [
    "dv.scatter('a',data.T);\n",
    "print dv['a']"
   ]
  },
  {
   "cell_type": "markdown",
   "metadata": {},
   "source": [
    "Observa que las estructuras compartidas son de solo lectura"
   ]
  },
  {
   "cell_type": "code",
   "execution_count": 24,
   "metadata": {
    "collapsed": true
   },
   "outputs": [],
   "source": [
    "def incr_a():\n",
    "    global a\n",
    "    a += 1"
   ]
  },
  {
   "cell_type": "code",
   "execution_count": 25,
   "metadata": {
    "collapsed": false
   },
   "outputs": [
    {
     "ename": "CompositeError",
     "evalue": "one or more exceptions from call to method: incr_a\n[Engine Exception]ValueError: output array is read-only\n[Engine Exception]ValueError: output array is read-only\n[Engine Exception]ValueError: output array is read-only\n[Engine Exception]ValueError: output array is read-only",
     "output_type": "error",
     "traceback": [
      "[Engine Exception]",
      "\u001b[1;31m---------------------------------------------------------------------------\u001b[0m\u001b[1;31mValueError\u001b[0m                                Traceback (most recent call last)\u001b[1;32m<string>\u001b[0m in \u001b[0;36m<module>\u001b[1;34m()\u001b[0m",
      "\u001b[1;32m<ipython-input-24-a6128dbb5d85>\u001b[0m in \u001b[0;36mincr_a\u001b[1;34m()\u001b[0m",
      "\u001b[1;31mValueError\u001b[0m: output array is read-only",
      "",
      "[Engine Exception]",
      "\u001b[1;31m---------------------------------------------------------------------------\u001b[0m\u001b[1;31mValueError\u001b[0m                                Traceback (most recent call last)\u001b[1;32m<string>\u001b[0m in \u001b[0;36m<module>\u001b[1;34m()\u001b[0m",
      "\u001b[1;32m<ipython-input-24-a6128dbb5d85>\u001b[0m in \u001b[0;36mincr_a\u001b[1;34m()\u001b[0m",
      "\u001b[1;31mValueError\u001b[0m: output array is read-only",
      "",
      "[Engine Exception]",
      "\u001b[1;31m---------------------------------------------------------------------------\u001b[0m\u001b[1;31mValueError\u001b[0m                                Traceback (most recent call last)\u001b[1;32m<string>\u001b[0m in \u001b[0;36m<module>\u001b[1;34m()\u001b[0m",
      "\u001b[1;32m<ipython-input-24-a6128dbb5d85>\u001b[0m in \u001b[0;36mincr_a\u001b[1;34m()\u001b[0m",
      "\u001b[1;31mValueError\u001b[0m: output array is read-only",
      "",
      "[Engine Exception]",
      "\u001b[1;31m---------------------------------------------------------------------------\u001b[0m\u001b[1;31mValueError\u001b[0m                                Traceback (most recent call last)\u001b[1;32m<string>\u001b[0m in \u001b[0;36m<module>\u001b[1;34m()\u001b[0m",
      "\u001b[1;32m<ipython-input-24-a6128dbb5d85>\u001b[0m in \u001b[0;36mincr_a\u001b[1;34m()\u001b[0m",
      "\u001b[1;31mValueError\u001b[0m: output array is read-only",
      ""
     ]
    }
   ],
   "source": [
    "dv.apply(incr_a).get()"
   ]
  },
  {
   "cell_type": "markdown",
   "metadata": {},
   "source": [
    "Mide la escalabilidad, comparando la ejecución local con la distribuida"
   ]
  },
  {
   "cell_type": "code",
   "execution_count": 26,
   "metadata": {
    "collapsed": true
   },
   "outputs": [],
   "source": [
    "def gen_data(its):\n",
    "    r = 0\n",
    "    for i in xrange(int(its)):\n",
    "        r += 1\n",
    "    return r\n",
    "        "
   ]
  },
  {
   "cell_type": "code",
   "execution_count": 27,
   "metadata": {
    "collapsed": false
   },
   "outputs": [
    {
     "name": "stdout",
     "output_type": "stream",
     "text": [
      "CPU times: user 436 ms, sys: 0 ns, total: 436 ms\n",
      "Wall time: 423 ms\n"
     ]
    },
    {
     "data": {
      "text/plain": [
       "10000000"
      ]
     },
     "execution_count": 27,
     "metadata": {},
     "output_type": "execute_result"
    }
   ],
   "source": [
    "%time gen_data(1e7)"
   ]
  },
  {
   "cell_type": "code",
   "execution_count": 28,
   "metadata": {
    "collapsed": false
   },
   "outputs": [
    {
     "name": "stdout",
     "output_type": "stream",
     "text": [
      "CPU times: user 32 ms, sys: 0 ns, total: 32 ms\n",
      "Wall time: 596 ms\n"
     ]
    },
    {
     "data": {
      "text/plain": [
       "[10000000, 10000000, 10000000, 10000000]"
      ]
     },
     "execution_count": 28,
     "metadata": {},
     "output_type": "execute_result"
    }
   ],
   "source": [
    "%time dv.apply(gen_data, 1e7).get()"
   ]
  },
  {
   "cell_type": "markdown",
   "metadata": {
    "collapsed": true
   },
   "source": [
    "### Parallel magics"
   ]
  },
  {
   "cell_type": "code",
   "execution_count": 29,
   "metadata": {
    "collapsed": false
   },
   "outputs": [
    {
     "name": "stdout",
     "output_type": "stream",
     "text": [
      "[stdout:0] hola\n",
      "[stdout:1] hola\n",
      "[stdout:2] hola\n",
      "[stdout:3] hola\n"
     ]
    }
   ],
   "source": [
    "%px print \"hola\""
   ]
  },
  {
   "cell_type": "code",
   "execution_count": 30,
   "metadata": {
    "collapsed": true
   },
   "outputs": [],
   "source": [
    "%px import numpy as np"
   ]
  },
  {
   "cell_type": "code",
   "execution_count": 31,
   "metadata": {
    "collapsed": false
   },
   "outputs": [],
   "source": [
    "%px r = np.random.randint(10)"
   ]
  },
  {
   "cell_type": "code",
   "execution_count": 32,
   "metadata": {
    "collapsed": false
   },
   "outputs": [
    {
     "data": {
      "text/plain": [
       "[5, 9, 5, 3]"
      ]
     },
     "execution_count": 32,
     "metadata": {},
     "output_type": "execute_result"
    }
   ],
   "source": [
    "dv.gather(\"r\").get()"
   ]
  },
  {
   "cell_type": "markdown",
   "metadata": {},
   "source": [
    "ejecuta un código en cada engine. Observa cómo recoge el stdout y la salida final. **ESTO ES ÚTIL PARA DEBUGGING**"
   ]
  },
  {
   "cell_type": "code",
   "execution_count": 33,
   "metadata": {
    "collapsed": false
   },
   "outputs": [
    {
     "name": "stdout",
     "output_type": "stream",
     "text": [
      "[stdout:0] calling with arg 10\n",
      "[stdout:1] calling with arg 10\n",
      "[stdout:2] calling with arg 10\n",
      "[stdout:3] calling with arg 10\n"
     ]
    },
    {
     "data": {
      "text/plain": [
       "\u001b[0;31mOut[0:4]: \u001b[0marray([3, 9, 5, 3, 3, 9, 3, 9, 8, 0])"
      ]
     },
     "metadata": {},
     "output_type": "display_data"
    },
    {
     "data": {
      "text/plain": [
       "\u001b[0;31mOut[1:4]: \u001b[0marray([2, 8, 8, 2, 7, 2, 0, 1, 1, 2])"
      ]
     },
     "metadata": {},
     "output_type": "display_data"
    },
    {
     "data": {
      "text/plain": [
       "\u001b[0;31mOut[2:4]: \u001b[0marray([5, 9, 1, 4, 6, 7, 4, 5, 6, 9])"
      ]
     },
     "metadata": {},
     "output_type": "display_data"
    },
    {
     "data": {
      "text/plain": [
       "\u001b[0;31mOut[3:4]: \u001b[0marray([8, 1, 2, 5, 5, 0, 1, 3, 1, 0])"
      ]
     },
     "metadata": {},
     "output_type": "display_data"
    }
   ],
   "source": [
    "%%px\n",
    "def get_rnd_vector(l):\n",
    "    print \"calling with arg\",l\n",
    "    return np.random.randint(10, size=l)\n",
    "get_rnd_vector(10)"
   ]
  },
  {
   "cell_type": "code",
   "execution_count": 34,
   "metadata": {
    "collapsed": false
   },
   "outputs": [
    {
     "data": {
      "text/plain": [
       "[array([8, 9]), array([8, 4, 8]), array([3, 9, 3, 3]), array([8, 2, 1, 9, 8])]"
      ]
     },
     "execution_count": 34,
     "metadata": {},
     "output_type": "execute_result"
    }
   ],
   "source": [
    "dv.map(lambda x: get_rnd_vector(x), [2,3,4,5]).get()"
   ]
  },
  {
   "cell_type": "markdown",
   "metadata": {},
   "source": [
    "observa que la función no existe en el cliente"
   ]
  },
  {
   "cell_type": "code",
   "execution_count": 35,
   "metadata": {
    "collapsed": false
   },
   "outputs": [
    {
     "ename": "NameError",
     "evalue": "name 'get_rnd_vector' is not defined",
     "output_type": "error",
     "traceback": [
      "\u001b[1;31m\u001b[0m",
      "\u001b[1;31mNameError\u001b[0mTraceback (most recent call last)",
      "\u001b[1;32m<ipython-input-35-7c34f50f0497>\u001b[0m in \u001b[0;36m<module>\u001b[1;34m()\u001b[0m\n\u001b[1;32m----> 1\u001b[1;33m \u001b[0mget_rnd_vector\u001b[0m\u001b[1;33m(\u001b[0m\u001b[1;36m5\u001b[0m\u001b[1;33m)\u001b[0m\u001b[1;33m\u001b[0m\u001b[0m\n\u001b[0m",
      "\u001b[1;31mNameError\u001b[0m: name 'get_rnd_vector' is not defined"
     ]
    }
   ],
   "source": [
    "get_rnd_vector(5)"
   ]
  },
  {
   "cell_type": "markdown",
   "metadata": {
    "collapsed": true
   },
   "source": [
    "### Midiendo el tiempo de ejecución en IPython"
   ]
  },
  {
   "cell_type": "code",
   "execution_count": 36,
   "metadata": {
    "collapsed": true
   },
   "outputs": [],
   "source": [
    "def long_loop(N):\n",
    "    for i in xrange(int(N)):\n",
    "        a = 1"
   ]
  },
  {
   "cell_type": "code",
   "execution_count": 37,
   "metadata": {
    "collapsed": false
   },
   "outputs": [
    {
     "name": "stdout",
     "output_type": "stream",
     "text": [
      "10000 loops, best of 3: 25.7 µs per loop\n"
     ]
    }
   ],
   "source": [
    "%timeit long_loop(1e3)"
   ]
  },
  {
   "cell_type": "code",
   "execution_count": 38,
   "metadata": {
    "collapsed": false
   },
   "outputs": [
    {
     "name": "stdout",
     "output_type": "stream",
     "text": [
      "100 loops, best of 4: 47.3 µs per loop\n"
     ]
    }
   ],
   "source": [
    "%timeit -n 100 -r 4 long_loop(1e3)"
   ]
  },
  {
   "cell_type": "code",
   "execution_count": 39,
   "metadata": {
    "collapsed": false
   },
   "outputs": [
    {
     "name": "stdout",
     "output_type": "stream",
     "text": [
      "2000 loops, best of 4: 25.6 µs per loop\n"
     ]
    }
   ],
   "source": [
    "t = %timeit -n 2000 -r 4 -o long_loop(1e3)"
   ]
  },
  {
   "cell_type": "code",
   "execution_count": 40,
   "metadata": {
    "collapsed": false
   },
   "outputs": [
    {
     "name": "stdout",
     "output_type": "stream",
     "text": [
      "loops        2000\n",
      "repeats      4\n",
      "compile time 0.0\n",
      "best         2.56325006485e-05\n",
      "all          [0.08162617683410645, 0.07692599296569824, 0.05469989776611328, 0.05126500129699707]\n",
      "all/nloops   [  4.08130884e-05   3.84629965e-05   2.73499489e-05   2.56325006e-05]\n"
     ]
    }
   ],
   "source": [
    "import numpy as np\n",
    "print \"loops       \", t.loops\n",
    "print \"repeats     \", t.repeat\n",
    "print \"compile time\", t.compile_time\n",
    "print \"best        \", t.best\n",
    "print \"all         \", t.all_runs\n",
    "print \"all/nloops  \", np.array(t.all_runs)/t.loops"
   ]
  },
  {
   "cell_type": "markdown",
   "metadata": {},
   "source": [
    "observa que cada run ejecuta 2000 veces (_loops_) el código. `t.all_runs` reporta el tiempo total de cada run. al dividir `t.all_runs` por el número total de _loops_ obtenemos el tiempo medio de ejecución del código."
   ]
  },
  {
   "cell_type": "code",
   "execution_count": null,
   "metadata": {
    "collapsed": true
   },
   "outputs": [],
   "source": []
  }
 ],
 "metadata": {
  "kernelspec": {
   "display_name": "Python 2",
   "language": "python",
   "name": "python2"
  },
  "language_info": {
   "codemirror_mode": {
    "name": "ipython",
    "version": 2
   },
   "file_extension": ".py",
   "mimetype": "text/x-python",
   "name": "python",
   "nbconvert_exporter": "python",
   "pygments_lexer": "ipython2",
   "version": "2.7.11"
  },
  "toc": {
   "toc_cell": false,
   "toc_number_sections": true,
   "toc_threshold": 6,
   "toc_window_display": false
  }
 },
 "nbformat": 4,
 "nbformat_minor": 0
}
