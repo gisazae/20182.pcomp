{
 "cells": [
  {
   "cell_type": "markdown",
   "metadata": {},
   "source": [
    "# Cálculo mejorado de $\\pi$ en paralelo\n",
    "### LEE ATENTAMENTE ESTE `notebook` EJECUTANDO SUS CELDAS. COMPLETA Y CONTESTA LAS CELDAS QUE CORRESPONDAN\n",
    "\n",
    "Asegúrate de que estás ejecutando el código de este _notebook_ en la máquina y desde el directorio que quieres\n",
    "\n",
    "**$\\rightarrow$ ejecuta** (`shift` + `return`)"
   ]
  },
  {
   "cell_type": "code",
   "execution_count": 1,
   "metadata": {},
   "outputs": [
    {
     "name": "stdout",
     "output_type": "stream",
     "text": [
      "HOSTNAME      sparkvm\n",
      "CURRENT DIR   /home/vagrant/share/teaching/parallel-computing/ucaldas.20162/student\n"
     ]
    }
   ],
   "source": [
    "import numpy as np\n",
    "import matplotlib.pyplot as plt\n",
    "import pandas as pd\n",
    "%matplotlib inline\n",
    "\n",
    "!echo \"HOSTNAME     \" `hostname`; \n",
    "!echo \"CURRENT DIR  \" `pwd`"
   ]
  },
  {
   "cell_type": "markdown",
   "metadata": {},
   "source": [
    "# Cálculo de $\\pi$ con _padding_\n",
    "# TAREA: Especifica la cantidad correcta de _padding_</font>\n",
    "\n",
    "**$\\rightarrow$ modifica y salva el siguiente código ** (`shift` + `return`)"
   ]
  },
  {
   "cell_type": "code",
   "execution_count": 2,
   "metadata": {},
   "outputs": [
    {
     "name": "stdout",
     "output_type": "stream",
     "text": [
      "Writing files/pi_spmd_pad.c\n"
     ]
    }
   ],
   "source": [
    "%%writefile files/pi_spmd_pad.c\n",
    "\n",
    "/**\n",
    "  Based on Tim Mattons' tutorial at Intel\n",
    "  https://software.intel.com/en-us/courseware/249662\n",
    "**/\n",
    "\n",
    "#include <stdio.h>\n",
    "#include <omp.h>\n",
    "\n",
    "#define MAX_THREADS 32\n",
    "\n",
    "static long num_steps = 100000000;\n",
    "double step;\n",
    "int main ()\n",
    "{\n",
    "    // ESPECIFICA LA CANTIDAD CORRECTA DE PADDING AQUI\n",
    "    long pad = 1;\n",
    "\n",
    "    int i,j;\n",
    "    double pi, full_sum = 0.0;\n",
    "    double start_time, run_time;\n",
    "    \n",
    "    double sum[MAX_THREADS * pad];\n",
    "\n",
    "    step = 1.0/(double) num_steps;\n",
    "\n",
    "    printf(\"pi secs nthreads\\n\");\n",
    "\n",
    "    j=4;\n",
    "\n",
    "    for (j=1;j<=MAX_THREADS ;j++) {\n",
    "        omp_set_num_threads(j);\n",
    "        full_sum=0.0;\n",
    "        start_time = omp_get_wtime();\n",
    "\n",
    "        #pragma omp parallel private(i)\n",
    "        {\n",
    "            int id = omp_get_thread_num();\n",
    "            int numthreads = omp_get_num_threads();\n",
    "            double x;\n",
    "\n",
    "            sum[id*pad] = 0.0;\n",
    "\n",
    "            for (i=id;i< num_steps; i+=numthreads){\n",
    "                x = (i+0.5)*step;\n",
    "                sum[id*pad] = sum[id*pad] + 4.0/(1.0+x*x);            \n",
    "            }\n",
    "        }\n",
    "\n",
    "        for(full_sum = 0.0, i=0;i<j;i++)\n",
    "            full_sum += sum[i*pad];\n",
    "\n",
    "        pi = step * full_sum;\n",
    "        run_time = omp_get_wtime() - start_time;\n",
    "        printf(\"%f %f %d\\n\",pi,run_time,j);\n",
    "    }\n",
    "\n",
    "\n",
    "}"
   ]
  },
  {
   "cell_type": "code",
   "execution_count": 3,
   "metadata": {},
   "outputs": [
    {
     "name": "stdout",
     "output_type": "stream",
     "text": [
      "rm -rf *.o files/pi_spmd_pad /home/vagrant/share/teaching/parallel-computing/ucaldas.20162/student/utils/*.o\n",
      "--------------------------------------\n",
      "- bulding files/pi_spmd_pad\n",
      "--------------------------------------\n",
      "INCLUDES /home/vagrant/share/teaching/parallel-computing/ucaldas.20162/student/utils\n",
      "SOURCES files/pi_spmd_pad.c\t /home/vagrant/share/teaching/parallel-computing/ucaldas.20162/student/utils/rlxutils.c\n",
      "ROOT DIR /home/vagrant/share/teaching/parallel-computing/ucaldas.20162/student/utils\n",
      "gcc -c -fopenmp -D LINUX -I/home/vagrant/share/teaching/parallel-computing/ucaldas.20162/student/utils files/pi_spmd_pad.c -o files/pi_spmd_pad.o\n",
      "INCLUDES /home/vagrant/share/teaching/parallel-computing/ucaldas.20162/student/utils\n",
      "SOURCES files/pi_spmd_pad.c\t /home/vagrant/share/teaching/parallel-computing/ucaldas.20162/student/utils/rlxutils.c\n",
      "ROOT DIR /home/vagrant/share/teaching/parallel-computing/ucaldas.20162/student/utils\n",
      "gcc -c -fopenmp -D LINUX -I/home/vagrant/share/teaching/parallel-computing/ucaldas.20162/student/utils /home/vagrant/share/teaching/parallel-computing/ucaldas.20162/student/utils/rlxutils.c -o /home/vagrant/share/teaching/parallel-computing/ucaldas.20162/student/utils/rlxutils.o\n",
      "gcc files/pi_spmd_pad.o /home/vagrant/share/teaching/parallel-computing/ucaldas.20162/student/utils/rlxutils.o -o files/pi_spmd_pad -fopenmp -lrt \n"
     ]
    }
   ],
   "source": [
    "!make -f m/Makefile-p2.3.1 clean all"
   ]
  },
  {
   "cell_type": "code",
   "execution_count": 4,
   "metadata": {},
   "outputs": [],
   "source": [
    "!./files/pi_spmd_pad > files/pad.data"
   ]
  },
  {
   "cell_type": "code",
   "execution_count": 5,
   "metadata": {},
   "outputs": [
    {
     "name": "stdout",
     "output_type": "stream",
     "text": [
      "pi mean 3.141593\n"
     ]
    },
    {
     "data": {
      "text/plain": [
       "<matplotlib.legend.Legend at 0xabdb97cc>"
      ]
     },
     "execution_count": 5,
     "metadata": {},
     "output_type": "execute_result"
    },
    {
     "data": {
      "image/png": "[encoded data removed]",
      "text/plain": [
       "<matplotlib.figure.Figure at 0xadb1520c>"
      ]
     },
     "metadata": {},
     "output_type": "display_data"
    }
   ],
   "source": [
    "df = pd.read_csv(\"files/pad.data\", sep=\" \")\n",
    "secs     = df['secs']\n",
    "nthreads = df['nthreads']\n",
    "pi       = df['pi']\n",
    "print \"pi mean\", np.mean(pi)\n",
    "ideal_secs = secs[0] / nthreads\n",
    "ax = plt.figure(figsize=(10,5)).add_subplot(111)\n",
    "ps, = ax.plot(nthreads, secs, linewidth=5, alpha=0.5, c=\"red\")\n",
    "pi, = ax.plot(nthreads, ideal_secs, linewidth=5, alpha=0.5, c=\"blue\")\n",
    "ax.legend([ps,pi],[\"measured\", \"ideal\"])"
   ]
  },
  {
   "cell_type": "markdown",
   "metadata": {},
   "source": [
    "# TAREA: Implementa el cálculo de $\\pi$ usando `omp atomic` o bien `omp critical` \n",
    "Usa para ello una variable privada para cada thread en la que acumula su suma parcial\n"
   ]
  },
  {
   "cell_type": "code",
   "execution_count": null,
   "metadata": {},
   "outputs": [],
   "source": [
    "%%writefile files/pi_spmd_final.c\n",
    "\n",
    "/**\n",
    "  Based on Tim Mattons' tutorial at Intel\n",
    "  https://software.intel.com/en-us/courseware/249662\n",
    "**/\n",
    "\n",
    "#include <stdio.h>\n",
    "#include <omp.h>\n",
    "\n",
    "#define MAX_THREADS 32\n",
    "\n",
    "static long num_steps = 10000000;\n",
    "double step;\n",
    "int main ()\n",
    "{\n",
    "    int i,j;\n",
    "    double pi, full_sum = 0.0;\n",
    "    double start_time, run_time;\n",
    "    \n",
    "    step = 1.0/(double) num_steps;\n",
    "\n",
    "    printf(\"pi secs nthreads\\n\");\n",
    "\n",
    "    j=4;\n",
    "\n",
    "    for (j=1;j<=MAX_THREADS ;j++) {\n",
    "        omp_set_num_threads(j);\n",
    "        full_sum=0.0;\n",
    "        start_time = omp_get_wtime();\n",
    "\n",
    "        // --- INSERTA TU CODIGO AQUI\n",
    "\n",
    "        run_time = omp_get_wtime() - start_time;\n",
    "        printf(\"%f %f %d\\n\",pi,run_time,j);\n",
    "    }\n",
    "\n",
    "\n",
    "}"
   ]
  },
  {
   "cell_type": "code",
   "execution_count": null,
   "metadata": {},
   "outputs": [],
   "source": [
    "!make -f m/Makefile-p2.3.2 clean all"
   ]
  },
  {
   "cell_type": "code",
   "execution_count": null,
   "metadata": {},
   "outputs": [],
   "source": [
    "!./files/pi_spmd_final > files/final.data"
   ]
  },
  {
   "cell_type": "code",
   "execution_count": null,
   "metadata": {},
   "outputs": [],
   "source": [
    "df = pd.read_csv(\"files/final.data\", sep=\" \")\n",
    "secs     = df['secs']\n",
    "nthreads = df['nthreads']\n",
    "pi       = df['pi']\n",
    "print \"pi mean\", np.mean(pi)\n",
    "ideal_secs = secs[0] / nthreads\n",
    "ax = plt.figure(figsize=(10,5)).add_subplot(111)\n",
    "ps, = ax.plot(nthreads, secs, linewidth=5, alpha=0.5, c=\"red\")\n",
    "pi, = ax.plot(nthreads, ideal_secs, linewidth=5, alpha=0.5, c=\"blue\")\n",
    "ax.legend([ps,pi],[\"measured\", \"ideal\"])"
   ]
  },
  {
   "cell_type": "code",
   "execution_count": null,
   "metadata": {},
   "outputs": [],
   "source": []
  }
 ],
 "metadata": {
  "kernelspec": {
   "display_name": "Python 2",
   "language": "python",
   "name": "python2"
  },
  "language_info": {
   "codemirror_mode": {
    "name": "ipython",
    "version": 2
   },
   "file_extension": ".py",
   "mimetype": "text/x-python",
   "name": "python",
   "nbconvert_exporter": "python",
   "pygments_lexer": "ipython2",
   "version": "2.7.13"
  },
  "toc": {
   "toc_cell": false,
   "toc_number_sections": true,
   "toc_threshold": 6,
   "toc_window_display": false
  },
  "widgets": {
   "state": {},
   "version": "1.1.2"
  }
 },
 "nbformat": 4,
 "nbformat_minor": 1
}
